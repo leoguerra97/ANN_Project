{
  "nbformat": 4,
  "nbformat_minor": 0,
  "metadata": {
    "accelerator": "GPU",
    "colab": {
      "name": "ImageSegHomeworkSubmission.ipynb",
      "provenance": [],
      "collapsed_sections": []
    },
    "kernelspec": {
      "display_name": "Python 3",
      "name": "python3"
    }
  },
  "cells": [
    {
      "cell_type": "markdown",
      "metadata": {
        "id": "B1bKULi1IBgl"
      },
      "source": [
        "# VGG and first Unet\n",
        "This notebook contains both our startging VGG model and our first attempt in implementing a Unet model.\n",
        "Our first submissions were made with this notebook.\n",
        "Unet immediately improved our results."
      ]
    },
    {
      "cell_type": "code",
      "metadata": {
        "id": "R3Xqh6v7cRWn"
      },
      "source": [
        "from IPython.core.interactiveshell import InteractiveShell\n",
        "InteractiveShell.ast_node_interactivity = \"all\""
      ],
      "execution_count": null,
      "outputs": []
    },
    {
      "cell_type": "code",
      "metadata": {
        "id": "M7Q6hRTecjp_"
      },
      "source": [
        "import os\n",
        "\n",
        "import tensorflow as tf\n",
        "import numpy as np\n",
        "\n",
        "# Set the seed for random operations. \n",
        "# This let our experiments to be reproducible. \n",
        "SEED = 1234\n",
        "tf.random.set_seed(SEED)  \n",
        "BS=1"
      ],
      "execution_count": null,
      "outputs": []
    },
    {
      "cell_type": "code",
      "metadata": {
        "id": "1MNaOxJMcmm0"
      },
      "source": [
        "cwd = os.getcwd()"
      ],
      "execution_count": null,
      "outputs": []
    },
    {
      "cell_type": "code",
      "metadata": {
        "colab": {
          "base_uri": "https://localhost:8080/"
        },
        "id": "H5WgT5cJcoIL",
        "outputId": "d9ce1d64-6f8f-4d17-d41a-c9ce861529a0"
      },
      "source": [
        "from google.colab import drive\n",
        "drive.mount('/content/drive')"
      ],
      "execution_count": null,
      "outputs": [
        {
          "output_type": "stream",
          "text": [
            "Drive already mounted at /content/drive; to attempt to forcibly remount, call drive.mount(\"/content/drive\", force_remount=True).\n"
          ],
          "name": "stdout"
        }
      ]
    },
    {
      "cell_type": "code",
      "metadata": {
        "colab": {
          "base_uri": "https://localhost:8080/"
        },
        "id": "4224pqYpcqGM",
        "outputId": "47e0afbf-a057-428d-f913-dff99e46e86f"
      },
      "source": [
        "!unzip /content/drive/My\\ Drive/Development_Dataset.zip"
      ],
      "execution_count": null,
      "outputs": [
        {
          "output_type": "stream",
          "text": [
            "Archive:  /content/drive/My Drive/Development_Dataset.zip\n",
            "replace Development_Dataset/.DS_Store? [y]es, [n]o, [A]ll, [N]one, [r]ename: N\n"
          ],
          "name": "stdout"
        }
      ]
    },
    {
      "cell_type": "code",
      "metadata": {
        "id": "0FY7le9zc6eV"
      },
      "source": [
        "#datagenerator\n",
        "from tensorflow.keras.preprocessing.image import ImageDataGenerator\n",
        "\n",
        "\n",
        "apply_data_augmentation = True\n",
        "\n",
        "# Create training ImageDataGenerator object\n",
        "\n",
        "if apply_data_augmentation:\n",
        "  img_data_gen = ImageDataGenerator(rotation_range=10,\n",
        "                                      width_shift_range=10,\n",
        "                                      height_shift_range=10,\n",
        "                                      zoom_range=0.3,\n",
        "                                      horizontal_flip=True,\n",
        "                                      vertical_flip=True,\n",
        "                                      fill_mode='reflect')\n",
        "  \n",
        "  mask_data_gen = ImageDataGenerator(rotation_range=10,\n",
        "                                       width_shift_range=10,\n",
        "                                       height_shift_range=10,\n",
        "                                       zoom_range=0.3,\n",
        "                                       horizontal_flip=True,\n",
        "                                       vertical_flip=True,\n",
        "                                       fill_mode='reflect')  \n",
        "else:\n",
        "    img_data_gen = ImageDataGenerator()\n",
        "    mask_data_gen = ImageDataGenerator()\n",
        "\n",
        "test_data_gen=ImageDataGenerator()    "
      ],
      "execution_count": null,
      "outputs": []
    },
    {
      "cell_type": "code",
      "metadata": {
        "id": "UXJDpcUy8aIx"
      },
      "source": [
        "def read_rgb_mask(img_path):\n",
        "    '''\n",
        "    img_path: path to the mask file\n",
        "    Returns the numpy array containing target values\n",
        "    '''\n",
        "\n",
        "    mask_img = Image.open(img_path)\n",
        "    mask_arr = np.array(mask_img)\n",
        "\n",
        "    new_mask_arr = np.zeros(mask_arr.shape[:2], dtype=mask_arr.dtype)\n",
        "\n",
        "    # Use RGB dictionary in 'RGBtoTarget.txt' to convert RGB to target\n",
        "    new_mask_arr[np.where(np.all(mask_arr == [254, 124, 18], axis=-1))] = 0 #254 instead of 216\n",
        "    new_mask_arr[np.where(np.all(mask_arr == [255, 255, 255], axis=-1))] = 1\n",
        "    new_mask_arr[np.where(np.all(mask_arr == [216, 67, 82], axis=-1))] = 2\n",
        "\n",
        "    return new_mask_arr"
      ],
      "execution_count": null,
      "outputs": []
    },
    {
      "cell_type": "code",
      "metadata": {
        "id": "WaC1UzNUy6iu"
      },
      "source": [
        "from PIL import Image\n",
        "\n",
        "class CustomDataset(tf.keras.utils.Sequence):\n",
        "\n",
        "  \"\"\"\n",
        "    CustomDataset inheriting from tf.keras.utils.Sequence.\n",
        "\n",
        "    3 main methods:\n",
        "      - __init__: save dataset params like directory, filenames..\n",
        "      - __len__: return the total number of samples in the dataset\n",
        "      - __getitem__: return a sample from the dataset\n",
        "\n",
        "    Note: \n",
        "      - the custom dataset return a single sample from the dataset. Then, we use \n",
        "        a tf.data.Dataset object to group samples into batches.\n",
        "      - in this case we have a different structure of the dataset in memory. \n",
        "        We have all the images in the same folder and the training and validation splits\n",
        "        are defined in text files.\n",
        "\n",
        "  \"\"\"\n",
        "\n",
        "  def __init__(self, dataset_dir, which_subset, img_generator=None, mask_generator=None, \n",
        "               preprocessing_function=None, out_shape=[256, 256]):\n",
        "    if which_subset == 'training':\n",
        "      subset_file = os.path.join(dataset_dir, 'Splits', 'train.txt')\n",
        "    elif which_subset == 'validation':\n",
        "      subset_file = os.path.join(dataset_dir, 'Splits', 'val.txt')\n",
        "    \n",
        "    with open(subset_file, 'r') as f:\n",
        "      lines = f.readlines()\n",
        "    \n",
        "    subset_filenames = []\n",
        "    for line in lines:\n",
        "      subset_filenames.append(line.strip()) \n",
        "\n",
        "    self.which_subset = which_subset\n",
        "    self.dataset_dir = dataset_dir\n",
        "    self.subset_filenames = subset_filenames\n",
        "    self.img_generator = img_generator\n",
        "    self.mask_generator = mask_generator\n",
        "    self.preprocessing_function = preprocessing_function\n",
        "    self.out_shape = out_shape\n",
        "\n",
        "  def __len__(self):\n",
        "    return len(self.subset_filenames)\n",
        "\n",
        "  def __getitem__(self, index):\n",
        "    # Read Image\n",
        "    curr_filename = self.subset_filenames[index]\n",
        "    img = Image.open(os.path.join(self.dataset_dir, 'Images', curr_filename + '.jpg'))\n",
        "    mask_from_rgb = read_rgb_mask(os.path.join(self.dataset_dir, 'Masks', curr_filename + '.png'))\n",
        "    mask = Image.fromarray(mask_from_rgb)\n",
        "\n",
        "    # Resize image and mask\n",
        "    img = img.resize(self.out_shape)\n",
        "    mask_arr = mask.resize(self.out_shape, resample=Image.NEAREST)\n",
        "    \n",
        "    img_arr = np.array(img)\n",
        "    mask_arr = np.array(mask_arr)\n",
        "    \n",
        "\n",
        "    mask_arr = np.expand_dims(mask_arr, -1)\n",
        "\n",
        "    if self.which_subset == 'training':\n",
        "      if self.img_generator is not None and self.mask_generator is not None:\n",
        "        # Perform data augmentation\n",
        "        # We can get a random transformation from the ImageDataGenerator using get_random_transform\n",
        "        # and we can apply it to the image using apply_transform\n",
        "        img_t = self.img_generator.get_random_transform(img_arr.shape, seed=SEED)\n",
        "        mask_t = self.mask_generator.get_random_transform(mask_arr.shape, seed=SEED)\n",
        "        img_arr = self.img_generator.apply_transform(img_arr, img_t)\n",
        "        # ImageDataGenerator use bilinear interpolation for augmenting the images.\n",
        "        # Thus, when applied to the masks it will output 'interpolated classes', which\n",
        "        # is an unwanted behaviour. As a trick, we can transform each class mask \n",
        "        # separately and then we can cast to integer values (as in the binary segmentation notebook).\n",
        "        # Finally, we merge the augmented binary masks to obtain the final segmentation mask.\n",
        "        out_mask = np.zeros_like(mask_arr)\n",
        "        for c in np.unique(mask_arr):\n",
        "          if c > 0:\n",
        "            curr_class_arr = np.float32(mask_arr == c)\n",
        "            curr_class_arr = self.mask_generator.apply_transform(curr_class_arr, mask_t)\n",
        "            # from [0, 1] to {0, 1}\n",
        "            curr_class_arr = np.uint8(curr_class_arr)\n",
        "            # recover original class\n",
        "            curr_class_arr = curr_class_arr * c \n",
        "            out_mask += curr_class_arr\n",
        "    else:\n",
        "      out_mask = mask_arr\n",
        "    \n",
        "    if self.preprocessing_function is not None:\n",
        "        img_arr = self.preprocessing_function(img_arr)\n",
        "\n",
        "    return img_arr, np.float32(out_mask)"
      ],
      "execution_count": null,
      "outputs": []
    },
    {
      "cell_type": "code",
      "metadata": {
        "id": "WN_9lRD4sLcR"
      },
      "source": [
        "from tensorflow.keras.applications.vgg16 import preprocess_input \n",
        "\n",
        "img_h = 1536\n",
        "img_w = 2048\n",
        "\n",
        "dataset = CustomDataset('/content/Development_Dataset/', 'training', \n",
        "                        img_generator=img_data_gen, mask_generator=mask_data_gen,\n",
        "                        out_shape=(img_w,img_h)) ##### first height\n",
        "dataset_valid = CustomDataset('/content/Development_Dataset/', 'validation', \n",
        "                              out_shape=(img_w,img_h)) ###first height then width ?\n"
      ],
      "execution_count": null,
      "outputs": []
    },
    {
      "cell_type": "code",
      "metadata": {
        "id": "fFzhMTsj2ENM"
      },
      "source": [
        "train_dataset = tf.data.Dataset.from_generator(lambda: dataset,\n",
        "                                               output_types=(tf.float32, tf.float32),\n",
        "                                               output_shapes=([img_h, img_w, 3], [img_h, img_w, 1]))\n",
        "\n",
        "train_dataset = train_dataset.batch(BS)\n",
        "\n",
        "train_dataset = train_dataset.repeat()\n",
        "\n",
        "valid_dataset = tf.data.Dataset.from_generator(lambda: dataset_valid,\n",
        "                                               output_types=(tf.float32, tf.float32),\n",
        "                                               output_shapes=([img_h, img_w, 3], [img_h, img_w, 1]))\n",
        "valid_dataset = valid_dataset.batch(BS)\n",
        "\n",
        "valid_dataset = valid_dataset.repeat()\n"
      ],
      "execution_count": null,
      "outputs": []
    },
    {
      "cell_type": "code",
      "metadata": {
        "id": "fYt2zwUzi6Uy"
      },
      "source": [
        "# Let's test data generator\n",
        "import time\n",
        "from matplotlib import cm\n",
        "import matplotlib.pyplot as plt\n",
        "\n",
        "%matplotlib inline\n",
        "\n",
        "# Assign a color to each class\n",
        "evenly_spaced_interval = np.linspace(0, 1, 3)\n",
        "colors = [cm.rainbow(x) for x in evenly_spaced_interval]\n",
        "\n",
        "iterator = iter(valid_dataset)"
      ],
      "execution_count": null,
      "outputs": []
    },
    {
      "cell_type": "code",
      "metadata": {
        "colab": {
          "base_uri": "https://localhost:8080/",
          "height": 200
        },
        "id": "egthP5Zfi6Oa",
        "outputId": "1c121188-9c5e-4b45-9af4-7284e4def7ac"
      },
      "source": [
        "fig, ax = plt.subplots(1, 2)\n",
        "\n",
        "augmented_img, target = next(iterator)\n",
        "augmented_img = augmented_img[0]   #First element\n",
        "augmented_img = augmented_img  # denormalize\n",
        "\n",
        "\n",
        "target = np.array(target[0, ..., 0])   # First element (squeezing channel dimension)\n",
        "\n",
        "print(np.unique(target))\n",
        "\n",
        "target_img = np.zeros([target.shape[0], target.shape[1], 3])\n",
        "\n",
        "target_img[np.where(target == 0)] = [0, 0, 0]\n",
        "for i in range(1, 3):\n",
        "  target_img[np.where(target == i)] = np.array(colors[i-1])[:3] * 255\n",
        "\n",
        "ax[0].imshow(np.uint8(augmented_img))\n",
        "ax[1].imshow(np.uint8(target_img))\n",
        "\n",
        "plt.show()"
      ],
      "execution_count": null,
      "outputs": [
        {
          "output_type": "stream",
          "text": [
            "[0. 1. 2.]\n"
          ],
          "name": "stdout"
        },
        {
          "output_type": "execute_result",
          "data": {
            "text/plain": [
              "<matplotlib.image.AxesImage at 0x7f70d72a0780>"
            ]
          },
          "metadata": {
            "tags": []
          },
          "execution_count": 49
        },
        {
          "output_type": "execute_result",
          "data": {
            "text/plain": [
              "<matplotlib.image.AxesImage at 0x7f70d7591c88>"
            ]
          },
          "metadata": {
            "tags": []
          },
          "execution_count": 49
        },
        {
          "output_type": "display_data",
          "data": {
            "image/png": "[encoded data removed]",
            "text/plain": [
              "<Figure size 432x288 with 2 Axes>"
            ]
          },
          "metadata": {
            "tags": []
          }
        }
      ]
    },
    {
      "cell_type": "code",
      "metadata": {
        "colab": {
          "base_uri": "https://localhost:8080/"
        },
        "id": "ql9bCdWwhnJu",
        "outputId": "d08b3ea6-0311-4972-b52d-5039f8879a53"
      },
      "source": [
        "vgg = tf.keras.applications.VGG16(weights='imagenet', include_top=False, input_shape=(img_h, img_w, 3))\n",
        "vgg.summary()\n",
        "for layer in vgg.layers:\n",
        "  layer.trainable = False"
      ],
      "execution_count": null,
      "outputs": [
        {
          "output_type": "stream",
          "text": [
            "Model: \"vgg16\"\n",
            "_________________________________________________________________\n",
            "Layer (type)                 Output Shape              Param #   \n",
            "=================================================================\n",
            "input_3 (InputLayer)         [(None, 1536, 2048, 3)]   0         \n",
            "_________________________________________________________________\n",
            "block1_conv1 (Conv2D)        (None, 1536, 2048, 64)    1792      \n",
            "_________________________________________________________________\n",
            "block1_conv2 (Conv2D)        (None, 1536, 2048, 64)    36928     \n",
            "_________________________________________________________________\n",
            "block1_pool (MaxPooling2D)   (None, 768, 1024, 64)     0         \n",
            "_________________________________________________________________\n",
            "block2_conv1 (Conv2D)        (None, 768, 1024, 128)    73856     \n",
            "_________________________________________________________________\n",
            "block2_conv2 (Conv2D)        (None, 768, 1024, 128)    147584    \n",
            "_________________________________________________________________\n",
            "block2_pool (MaxPooling2D)   (None, 384, 512, 128)     0         \n",
            "_________________________________________________________________\n",
            "block3_conv1 (Conv2D)        (None, 384, 512, 256)     295168    \n",
            "_________________________________________________________________\n",
            "block3_conv2 (Conv2D)        (None, 384, 512, 256)     590080    \n",
            "_________________________________________________________________\n",
            "block3_conv3 (Conv2D)        (None, 384, 512, 256)     590080    \n",
            "_________________________________________________________________\n",
            "block3_pool (MaxPooling2D)   (None, 192, 256, 256)     0         \n",
            "_________________________________________________________________\n",
            "block4_conv1 (Conv2D)        (None, 192, 256, 512)     1180160   \n",
            "_________________________________________________________________\n",
            "block4_conv2 (Conv2D)        (None, 192, 256, 512)     2359808   \n",
            "_________________________________________________________________\n",
            "block4_conv3 (Conv2D)        (None, 192, 256, 512)     2359808   \n",
            "_________________________________________________________________\n",
            "block4_pool (MaxPooling2D)   (None, 96, 128, 512)      0         \n",
            "_________________________________________________________________\n",
            "block5_conv1 (Conv2D)        (None, 96, 128, 512)      2359808   \n",
            "_________________________________________________________________\n",
            "block5_conv2 (Conv2D)        (None, 96, 128, 512)      2359808   \n",
            "_________________________________________________________________\n",
            "block5_conv3 (Conv2D)        (None, 96, 128, 512)      2359808   \n",
            "_________________________________________________________________\n",
            "block5_pool (MaxPooling2D)   (None, 48, 64, 512)       0         \n",
            "=================================================================\n",
            "Total params: 14,714,688\n",
            "Trainable params: 14,714,688\n",
            "Non-trainable params: 0\n",
            "_________________________________________________________________\n"
          ],
          "name": "stdout"
        }
      ]
    },
    {
      "cell_type": "code",
      "metadata": {
        "id": "FL77qV17hnEl"
      },
      "source": [
        "def create_model(depth, start_f, num_classes):\n",
        "\n",
        "    model = tf.keras.Sequential()\n",
        "    \n",
        "    # Encoder\n",
        "    # -------\n",
        "    model.add(vgg)\n",
        "    \n",
        "    start_f = 256\n",
        "        \n",
        "    # Decoder\n",
        "    # -------\n",
        "    for i in range(depth):\n",
        "        model.add(tf.keras.layers.UpSampling2D(2, interpolation='bilinear'))\n",
        "        model.add(tf.keras.layers.Conv2D(filters=start_f,\n",
        "                                         kernel_size=(3, 3),\n",
        "                                         strides=(1, 1),\n",
        "                                         padding='same'))\n",
        "        model.add(tf.keras.layers.ReLU())\n",
        "\n",
        "        start_f = start_f // 2\n",
        "\n",
        "    # Prediction Layer\n",
        "    # ----------------\n",
        "    model.add(tf.keras.layers.Conv2D(filters=num_classes,\n",
        "                                     kernel_size=(1, 1),\n",
        "                                     strides=(1, 1),\n",
        "                                     padding='same',\n",
        "                                     activation='softmax'))\n",
        "    \n",
        "    return model"
      ],
      "execution_count": null,
      "outputs": []
    },
    {
      "cell_type": "code",
      "metadata": {
        "id": "bJ8snw6c_lXy"
      },
      "source": [
        "from tensorflow.keras import layers\r\n",
        "from tensorflow import keras\r\n",
        "\r\n",
        "\r\n",
        "def get_model(img_size, num_classes):\r\n",
        "    inputs = keras.Input(shape=img_size + (3,))\r\n",
        "\r\n",
        "    ### [First half of the network: downsampling inputs] ###\r\n",
        "\r\n",
        "    # Entry block\r\n",
        "    x = layers.Conv2D(32, 3, strides=2, padding=\"same\")(inputs)\r\n",
        "    x = layers.BatchNormalization()(x)\r\n",
        "    x = layers.Activation(\"relu\")(x)\r\n",
        "\r\n",
        "    previous_block_activation = x  # Set aside residual\r\n",
        "\r\n",
        "    # Blocks 1, 2, 3 are identical apart from the feature depth.\r\n",
        "    for filters in [64, 128, 256]:\r\n",
        "        x = layers.Activation(\"relu\")(x)\r\n",
        "        x = layers.SeparableConv2D(filters, 3, padding=\"same\")(x)\r\n",
        "        x = layers.BatchNormalization()(x)\r\n",
        "\r\n",
        "        x = layers.Activation(\"relu\")(x)\r\n",
        "        x = layers.SeparableConv2D(filters, 3, padding=\"same\")(x)\r\n",
        "        x = layers.BatchNormalization()(x)\r\n",
        "\r\n",
        "        x = layers.MaxPooling2D(3, strides=2, padding=\"same\")(x)\r\n",
        "\r\n",
        "        # Project residual\r\n",
        "        residual = layers.Conv2D(filters, 1, strides=2, padding=\"same\")(\r\n",
        "            previous_block_activation\r\n",
        "        )\r\n",
        "        x = layers.add([x, residual])  # Add back residual\r\n",
        "        previous_block_activation = x  # Set aside next residualfoo\r\n",
        "\r\n",
        "    ### [Second half of the network: upsampling inputs] ###\r\n",
        "\r\n",
        "    for filters in [256, 128, 64, 32]:\r\n",
        "        x = layers.Activation(\"relu\")(x)\r\n",
        "        x = layers.Conv2DTranspose(filters, 3, padding=\"same\")(x)\r\n",
        "        x = layers.BatchNormalization()(x)\r\n",
        "\r\n",
        "        x = layers.Activation(\"relu\")(x)\r\n",
        "        x = layers.Conv2DTranspose(filters, 3, padding=\"same\")(x)\r\n",
        "        x = layers.BatchNormalization()(x)\r\n",
        "\r\n",
        "        x = layers.UpSampling2D(2)(x)\r\n",
        "\r\n",
        "        # Project residual\r\n",
        "        residual = layers.UpSampling2D(2)(previous_block_activation)\r\n",
        "        residual = layers.Conv2D(filters, 1, padding=\"same\")(residual)\r\n",
        "        x = layers.add([x, residual])  # Add back residual\r\n",
        "        previous_block_activation = x  # Set aside next residual\r\n",
        "\r\n",
        "    # Add a per-pixel classification layer\r\n",
        "    outputs = layers.Conv2D(num_classes, 3, activation=\"softmax\", padding=\"same\")(x)\r\n",
        "\r\n",
        "    # Define the model\r\n",
        "    model = keras.Model(inputs, outputs)\r\n",
        "    return model\r\n",
        "\r\n"
      ],
      "execution_count": null,
      "outputs": []
    },
    {
      "cell_type": "code",
      "metadata": {
        "colab": {
          "base_uri": "https://localhost:8080/"
        },
        "id": "Ub4EIBN1_rFa",
        "outputId": "f5f1c13d-585f-437d-a96e-8f4330405f46"
      },
      "source": [
        "# Build model\r\n",
        "img_size=(img_h,img_w)\r\n",
        "num_classes=3\r\n",
        "model = get_model(img_size, num_classes)\r\n",
        "model.summary()\r\n"
      ],
      "execution_count": null,
      "outputs": [
        {
          "output_type": "stream",
          "text": [
            "Model: \"model_1\"\n",
            "__________________________________________________________________________________________________\n",
            "Layer (type)                    Output Shape         Param #     Connected to                     \n",
            "==================================================================================================\n",
            "input_4 (InputLayer)            [(None, 1536, 2048,  0                                            \n",
            "__________________________________________________________________________________________________\n",
            "conv2d_9 (Conv2D)               (None, 768, 1024, 32 896         input_4[0][0]                    \n",
            "__________________________________________________________________________________________________\n",
            "batch_normalization_15 (BatchNo (None, 768, 1024, 32 128         conv2d_9[0][0]                   \n",
            "__________________________________________________________________________________________________\n",
            "activation_15 (Activation)      (None, 768, 1024, 32 0           batch_normalization_15[0][0]     \n",
            "__________________________________________________________________________________________________\n",
            "activation_16 (Activation)      (None, 768, 1024, 32 0           activation_15[0][0]              \n",
            "__________________________________________________________________________________________________\n",
            "separable_conv2d_6 (SeparableCo (None, 768, 1024, 64 2400        activation_16[0][0]              \n",
            "__________________________________________________________________________________________________\n",
            "batch_normalization_16 (BatchNo (None, 768, 1024, 64 256         separable_conv2d_6[0][0]         \n",
            "__________________________________________________________________________________________________\n",
            "activation_17 (Activation)      (None, 768, 1024, 64 0           batch_normalization_16[0][0]     \n",
            "__________________________________________________________________________________________________\n",
            "separable_conv2d_7 (SeparableCo (None, 768, 1024, 64 4736        activation_17[0][0]              \n",
            "__________________________________________________________________________________________________\n",
            "batch_normalization_17 (BatchNo (None, 768, 1024, 64 256         separable_conv2d_7[0][0]         \n",
            "__________________________________________________________________________________________________\n",
            "max_pooling2d_3 (MaxPooling2D)  (None, 384, 512, 64) 0           batch_normalization_17[0][0]     \n",
            "__________________________________________________________________________________________________\n",
            "conv2d_10 (Conv2D)              (None, 384, 512, 64) 2112        activation_15[0][0]              \n",
            "__________________________________________________________________________________________________\n",
            "add_7 (Add)                     (None, 384, 512, 64) 0           max_pooling2d_3[0][0]            \n",
            "                                                                 conv2d_10[0][0]                  \n",
            "__________________________________________________________________________________________________\n",
            "activation_18 (Activation)      (None, 384, 512, 64) 0           add_7[0][0]                      \n",
            "__________________________________________________________________________________________________\n",
            "separable_conv2d_8 (SeparableCo (None, 384, 512, 128 8896        activation_18[0][0]              \n",
            "__________________________________________________________________________________________________\n",
            "batch_normalization_18 (BatchNo (None, 384, 512, 128 512         separable_conv2d_8[0][0]         \n",
            "__________________________________________________________________________________________________\n",
            "activation_19 (Activation)      (None, 384, 512, 128 0           batch_normalization_18[0][0]     \n",
            "__________________________________________________________________________________________________\n",
            "separable_conv2d_9 (SeparableCo (None, 384, 512, 128 17664       activation_19[0][0]              \n",
            "__________________________________________________________________________________________________\n",
            "batch_normalization_19 (BatchNo (None, 384, 512, 128 512         separable_conv2d_9[0][0]         \n",
            "__________________________________________________________________________________________________\n",
            "max_pooling2d_4 (MaxPooling2D)  (None, 192, 256, 128 0           batch_normalization_19[0][0]     \n",
            "__________________________________________________________________________________________________\n",
            "conv2d_11 (Conv2D)              (None, 192, 256, 128 8320        add_7[0][0]                      \n",
            "__________________________________________________________________________________________________\n",
            "add_8 (Add)                     (None, 192, 256, 128 0           max_pooling2d_4[0][0]            \n",
            "                                                                 conv2d_11[0][0]                  \n",
            "__________________________________________________________________________________________________\n",
            "activation_20 (Activation)      (None, 192, 256, 128 0           add_8[0][0]                      \n",
            "__________________________________________________________________________________________________\n",
            "separable_conv2d_10 (SeparableC (None, 192, 256, 256 34176       activation_20[0][0]              \n",
            "__________________________________________________________________________________________________\n",
            "batch_normalization_20 (BatchNo (None, 192, 256, 256 1024        separable_conv2d_10[0][0]        \n",
            "__________________________________________________________________________________________________\n",
            "activation_21 (Activation)      (None, 192, 256, 256 0           batch_normalization_20[0][0]     \n",
            "__________________________________________________________________________________________________\n",
            "separable_conv2d_11 (SeparableC (None, 192, 256, 256 68096       activation_21[0][0]              \n",
            "__________________________________________________________________________________________________\n",
            "batch_normalization_21 (BatchNo (None, 192, 256, 256 1024        separable_conv2d_11[0][0]        \n",
            "__________________________________________________________________________________________________\n",
            "max_pooling2d_5 (MaxPooling2D)  (None, 96, 128, 256) 0           batch_normalization_21[0][0]     \n",
            "__________________________________________________________________________________________________\n",
            "conv2d_12 (Conv2D)              (None, 96, 128, 256) 33024       add_8[0][0]                      \n",
            "__________________________________________________________________________________________________\n",
            "add_9 (Add)                     (None, 96, 128, 256) 0           max_pooling2d_5[0][0]            \n",
            "                                                                 conv2d_12[0][0]                  \n",
            "__________________________________________________________________________________________________\n",
            "activation_22 (Activation)      (None, 96, 128, 256) 0           add_9[0][0]                      \n",
            "__________________________________________________________________________________________________\n",
            "conv2d_transpose_8 (Conv2DTrans (None, 96, 128, 256) 590080      activation_22[0][0]              \n",
            "__________________________________________________________________________________________________\n",
            "batch_normalization_22 (BatchNo (None, 96, 128, 256) 1024        conv2d_transpose_8[0][0]         \n",
            "__________________________________________________________________________________________________\n",
            "activation_23 (Activation)      (None, 96, 128, 256) 0           batch_normalization_22[0][0]     \n",
            "__________________________________________________________________________________________________\n",
            "conv2d_transpose_9 (Conv2DTrans (None, 96, 128, 256) 590080      activation_23[0][0]              \n",
            "__________________________________________________________________________________________________\n",
            "batch_normalization_23 (BatchNo (None, 96, 128, 256) 1024        conv2d_transpose_9[0][0]         \n",
            "__________________________________________________________________________________________________\n",
            "up_sampling2d_9 (UpSampling2D)  (None, 192, 256, 256 0           add_9[0][0]                      \n",
            "__________________________________________________________________________________________________\n",
            "up_sampling2d_8 (UpSampling2D)  (None, 192, 256, 256 0           batch_normalization_23[0][0]     \n",
            "__________________________________________________________________________________________________\n",
            "conv2d_13 (Conv2D)              (None, 192, 256, 256 65792       up_sampling2d_9[0][0]            \n",
            "__________________________________________________________________________________________________\n",
            "add_10 (Add)                    (None, 192, 256, 256 0           up_sampling2d_8[0][0]            \n",
            "                                                                 conv2d_13[0][0]                  \n",
            "__________________________________________________________________________________________________\n",
            "activation_24 (Activation)      (None, 192, 256, 256 0           add_10[0][0]                     \n",
            "__________________________________________________________________________________________________\n",
            "conv2d_transpose_10 (Conv2DTran (None, 192, 256, 128 295040      activation_24[0][0]              \n",
            "__________________________________________________________________________________________________\n",
            "batch_normalization_24 (BatchNo (None, 192, 256, 128 512         conv2d_transpose_10[0][0]        \n",
            "__________________________________________________________________________________________________\n",
            "activation_25 (Activation)      (None, 192, 256, 128 0           batch_normalization_24[0][0]     \n",
            "__________________________________________________________________________________________________\n",
            "conv2d_transpose_11 (Conv2DTran (None, 192, 256, 128 147584      activation_25[0][0]              \n",
            "__________________________________________________________________________________________________\n",
            "batch_normalization_25 (BatchNo (None, 192, 256, 128 512         conv2d_transpose_11[0][0]        \n",
            "__________________________________________________________________________________________________\n",
            "up_sampling2d_11 (UpSampling2D) (None, 384, 512, 256 0           add_10[0][0]                     \n",
            "__________________________________________________________________________________________________\n",
            "up_sampling2d_10 (UpSampling2D) (None, 384, 512, 128 0           batch_normalization_25[0][0]     \n",
            "__________________________________________________________________________________________________\n",
            "conv2d_14 (Conv2D)              (None, 384, 512, 128 32896       up_sampling2d_11[0][0]           \n",
            "__________________________________________________________________________________________________\n",
            "add_11 (Add)                    (None, 384, 512, 128 0           up_sampling2d_10[0][0]           \n",
            "                                                                 conv2d_14[0][0]                  \n",
            "__________________________________________________________________________________________________\n",
            "activation_26 (Activation)      (None, 384, 512, 128 0           add_11[0][0]                     \n",
            "__________________________________________________________________________________________________\n",
            "conv2d_transpose_12 (Conv2DTran (None, 384, 512, 64) 73792       activation_26[0][0]              \n",
            "__________________________________________________________________________________________________\n",
            "batch_normalization_26 (BatchNo (None, 384, 512, 64) 256         conv2d_transpose_12[0][0]        \n",
            "__________________________________________________________________________________________________\n",
            "activation_27 (Activation)      (None, 384, 512, 64) 0           batch_normalization_26[0][0]     \n",
            "__________________________________________________________________________________________________\n",
            "conv2d_transpose_13 (Conv2DTran (None, 384, 512, 64) 36928       activation_27[0][0]              \n",
            "__________________________________________________________________________________________________\n",
            "batch_normalization_27 (BatchNo (None, 384, 512, 64) 256         conv2d_transpose_13[0][0]        \n",
            "__________________________________________________________________________________________________\n",
            "up_sampling2d_13 (UpSampling2D) (None, 768, 1024, 12 0           add_11[0][0]                     \n",
            "__________________________________________________________________________________________________\n",
            "up_sampling2d_12 (UpSampling2D) (None, 768, 1024, 64 0           batch_normalization_27[0][0]     \n",
            "__________________________________________________________________________________________________\n",
            "conv2d_15 (Conv2D)              (None, 768, 1024, 64 8256        up_sampling2d_13[0][0]           \n",
            "__________________________________________________________________________________________________\n",
            "add_12 (Add)                    (None, 768, 1024, 64 0           up_sampling2d_12[0][0]           \n",
            "                                                                 conv2d_15[0][0]                  \n",
            "__________________________________________________________________________________________________\n",
            "activation_28 (Activation)      (None, 768, 1024, 64 0           add_12[0][0]                     \n",
            "__________________________________________________________________________________________________\n",
            "conv2d_transpose_14 (Conv2DTran (None, 768, 1024, 32 18464       activation_28[0][0]              \n",
            "__________________________________________________________________________________________________\n",
            "batch_normalization_28 (BatchNo (None, 768, 1024, 32 128         conv2d_transpose_14[0][0]        \n",
            "__________________________________________________________________________________________________\n",
            "activation_29 (Activation)      (None, 768, 1024, 32 0           batch_normalization_28[0][0]     \n",
            "__________________________________________________________________________________________________\n",
            "conv2d_transpose_15 (Conv2DTran (None, 768, 1024, 32 9248        activation_29[0][0]              \n",
            "__________________________________________________________________________________________________\n",
            "batch_normalization_29 (BatchNo (None, 768, 1024, 32 128         conv2d_transpose_15[0][0]        \n",
            "__________________________________________________________________________________________________\n",
            "up_sampling2d_15 (UpSampling2D) (None, 1536, 2048, 6 0           add_12[0][0]                     \n",
            "__________________________________________________________________________________________________\n",
            "up_sampling2d_14 (UpSampling2D) (None, 1536, 2048, 3 0           batch_normalization_29[0][0]     \n",
            "__________________________________________________________________________________________________\n",
            "conv2d_16 (Conv2D)              (None, 1536, 2048, 3 2080        up_sampling2d_15[0][0]           \n",
            "__________________________________________________________________________________________________\n",
            "add_13 (Add)                    (None, 1536, 2048, 3 0           up_sampling2d_14[0][0]           \n",
            "                                                                 conv2d_16[0][0]                  \n",
            "__________________________________________________________________________________________________\n",
            "conv2d_17 (Conv2D)              (None, 1536, 2048, 3 867         add_13[0][0]                     \n",
            "==================================================================================================\n",
            "Total params: 2,058,979\n",
            "Trainable params: 2,055,203\n",
            "Non-trainable params: 3,776\n",
            "__________________________________________________________________________________________________\n"
          ],
          "name": "stdout"
        }
      ]
    },
    {
      "cell_type": "code",
      "metadata": {
        "id": "sgRDBDM4hm-1"
      },
      "source": [
        "#model = create_model(depth=5, \n",
        "                 #    start_f=8, \n",
        "                   #  num_classes=3)\n",
        "\n",
        "# Visualize created model as a table\n",
        "#model.summary()\n",
        "\n",
        "# Visualize initialized weights\n",
        "# model.weights"
      ],
      "execution_count": null,
      "outputs": []
    },
    {
      "cell_type": "code",
      "metadata": {
        "id": "Zy5xRsy9h1Yw"
      },
      "source": [
        "# Optimization params\n",
        "# -------------------\n",
        "\n",
        "# Loss\n",
        "# Sparse Categorical Crossentropy to use integers (mask) instead of one-hot encoded labels\n",
        "loss = tf.keras.losses.SparseCategoricalCrossentropy() \n",
        "# learning rate\n",
        "lr = 1e-4\n",
        "optimizer = tf.keras.optimizers.Adam(learning_rate=lr)\n",
        "# -------------------\n",
        "\n",
        "# Here we define the intersection over union for each class in the batch.\n",
        "# Then we compute the final iou as the mean over classes\n",
        "def meanIoU(y_true, y_pred):\n",
        "    # get predicted class from softmax\n",
        "    y_pred = tf.expand_dims(tf.argmax(y_pred, -1), -1)\n",
        "\n",
        "    per_class_iou = []\n",
        "\n",
        "    for i in range(1,3): # exclude the background class 0\n",
        "      # Get prediction and target related to only a single class (i)\n",
        "      class_pred = tf.cast(tf.where(y_pred == i, 1, 0), tf.float32)\n",
        "      class_true = tf.cast(tf.where(y_true == i, 1, 0), tf.float32)\n",
        "      intersection = tf.reduce_sum(class_true * class_pred)\n",
        "      union = tf.reduce_sum(class_true) + tf.reduce_sum(class_pred) - intersection\n",
        "    \n",
        "      iou = (intersection + 1e-7) / (union + 1e-7)\n",
        "      per_class_iou.append(iou)\n",
        "\n",
        "    return tf.reduce_mean(per_class_iou)\n",
        "\n",
        "# Validation metrics\n",
        "#------------------\n",
        "metrics = ['accuracy', meanIoU]\n",
        "# ------------------\n",
        "\n",
        "# Compile Model\n",
        "model.compile(optimizer=optimizer, loss=loss, metrics=metrics)"
      ],
      "execution_count": null,
      "outputs": []
    },
    {
      "cell_type": "code",
      "metadata": {
        "id": "6-fSkeXEh1Te"
      },
      "source": [
        "import os\n",
        "from datetime import datetime\n",
        "\n",
        "cwd = os.getcwd()\n",
        "\n",
        "exps_dir = os.path.join(cwd, 'drive/My Drive/Keras4/', 'multiclass_segmentation_experiments')\n",
        "if not os.path.exists(exps_dir):\n",
        "    os.makedirs(exps_dir)\n",
        "\n",
        "now = datetime.now().strftime('%b%d_%H-%M-%S')\n",
        "\n",
        "model_name = 'CNN'\n",
        "\n",
        "exp_dir = os.path.join(exps_dir, model_name + '_' + str(now))\n",
        "if not os.path.exists(exp_dir):\n",
        "    os.makedirs(exp_dir)\n",
        "    \n",
        "callbacks = []\n",
        "\n",
        "# Model checkpoint\n",
        "ckpt_dir = os.path.join(exp_dir, 'ckpts')\n",
        "if not os.path.exists(ckpt_dir):\n",
        "    os.makedirs(ckpt_dir)\n",
        "\n",
        "ckpt_callback = tf.keras.callbacks.ModelCheckpoint(filepath=os.path.join(ckpt_dir, 'cp_{epoch:02d}.ckpt'), \n",
        "                                                   save_weights_only=True)  # False to save the model directly\n",
        "callbacks.append(ckpt_callback)\n",
        "\n",
        "# Visualize Learning on Tensorboard\n",
        "# How to visualize Tensorboard\n",
        "# 1. tensorboard --logdir EXPERIMENTS_DIR --port PORT     <- from terminal\n",
        "# 2. localhost:PORT   <- in your browser\n",
        "\n",
        "tb_dir = os.path.join(exp_dir, 'tb_logs')\n",
        "if not os.path.exists(tb_dir):\n",
        "    os.makedirs(tb_dir)\n",
        "\n",
        "       \n",
        "# By default shows losses and metrics for both training and validation\n",
        "tb_callback = tf.keras.callbacks.TensorBoard(log_dir=tb_dir,\n",
        "                                             profile_batch=0,\n",
        "                                             histogram_freq=0)  # if 1 shows weights histograms\n",
        "callbacks.append(tb_callback)\n",
        "\n",
        "# Early Stopping\n",
        "early_stop = False\n",
        "if early_stop:\n",
        "    es_callback = tf.keras.callback.EarlyStopping(monitor='val_loss', patience=10,restore_best_weights = True )\n",
        "    callbacks.append(es_callback)"
      ],
      "execution_count": null,
      "outputs": []
    },
    {
      "cell_type": "code",
      "metadata": {
        "colab": {
          "background_save": true,
          "base_uri": "https://localhost:8080/"
        },
        "id": "bQstyRLpfiTt",
        "outputId": "f3df651f-7954-41a0-f1c8-31d300c73274"
      },
      "source": [
        "model.fit(x=train_dataset,\n",
        "          epochs=20,  #### set repeat in training dataset\n",
        "          steps_per_epoch=len(dataset)//BS,\n",
        "          validation_data=valid_dataset,\n",
        "          validation_steps=len(dataset_valid), \n",
        "          callbacks=callbacks)"
      ],
      "execution_count": null,
      "outputs": [
        {
          "output_type": "stream",
          "text": [
            "Epoch 1/20\n",
            "162/162 [==============================] - 362s 2s/step - loss: 0.4593 - accuracy: 0.9037 - meanIoU: 0.3143 - val_loss: 1.0784 - val_accuracy: 0.9118 - val_meanIoU: 2.0830e-12\n",
            "Epoch 2/20\n",
            "162/162 [==============================] - 355s 2s/step - loss: 0.1323 - accuracy: 0.9569 - meanIoU: 0.4013 - val_loss: 0.8173 - val_accuracy: 0.9118 - val_meanIoU: 2.0829e-12\n",
            "Epoch 3/20\n",
            "162/162 [==============================] - 354s 2s/step - loss: 0.1136 - accuracy: 0.9605 - meanIoU: 0.4294 - val_loss: 0.1680 - val_accuracy: 0.9519 - val_meanIoU: 0.2520\n",
            "Epoch 4/20\n",
            "162/162 [==============================] - 352s 2s/step - loss: 0.1045 - accuracy: 0.9625 - meanIoU: 0.4497 - val_loss: 0.0818 - val_accuracy: 0.9750 - val_meanIoU: 0.4602\n",
            "Epoch 5/20\n",
            "162/162 [==============================] - 352s 2s/step - loss: 0.0986 - accuracy: 0.9642 - meanIoU: 0.4668 - val_loss: 0.0843 - val_accuracy: 0.9722 - val_meanIoU: 0.4858\n",
            "Epoch 6/20\n",
            "162/162 [==============================] - 349s 2s/step - loss: 0.0936 - accuracy: 0.9656 - meanIoU: 0.4827 - val_loss: 0.0814 - val_accuracy: 0.9728 - val_meanIoU: 0.4933\n",
            "Epoch 7/20\n",
            "162/162 [==============================] - 348s 2s/step - loss: 0.0899 - accuracy: 0.9669 - meanIoU: 0.4979 - val_loss: 0.0824 - val_accuracy: 0.9725 - val_meanIoU: 0.4893\n",
            "Epoch 8/20\n",
            "162/162 [==============================] - 351s 2s/step - loss: 0.0867 - accuracy: 0.9679 - meanIoU: 0.5108 - val_loss: 0.0780 - val_accuracy: 0.9738 - val_meanIoU: 0.5016\n",
            "Epoch 9/20\n",
            "162/162 [==============================] - 352s 2s/step - loss: 0.0846 - accuracy: 0.9686 - meanIoU: 0.5201 - val_loss: 0.0776 - val_accuracy: 0.9744 - val_meanIoU: 0.5039\n",
            "Epoch 10/20\n",
            "162/162 [==============================] - 352s 2s/step - loss: 0.0835 - accuracy: 0.9690 - meanIoU: 0.5264 - val_loss: 0.0739 - val_accuracy: 0.9752 - val_meanIoU: 0.5121\n",
            "Epoch 11/20\n",
            "162/162 [==============================] - 349s 2s/step - loss: 0.0826 - accuracy: 0.9693 - meanIoU: 0.5306 - val_loss: 0.0758 - val_accuracy: 0.9757 - val_meanIoU: 0.5058\n",
            "Epoch 12/20\n",
            "162/162 [==============================] - 348s 2s/step - loss: 0.0820 - accuracy: 0.9691 - meanIoU: 0.5320 - val_loss: 0.0776 - val_accuracy: 0.9743 - val_meanIoU: 0.5061\n",
            "Epoch 13/20\n",
            "162/162 [==============================] - 348s 2s/step - loss: 0.0794 - accuracy: 0.9701 - meanIoU: 0.5457 - val_loss: 0.0776 - val_accuracy: 0.9758 - val_meanIoU: 0.4992\n",
            "Epoch 14/20\n",
            "162/162 [==============================] - 348s 2s/step - loss: 0.0791 - accuracy: 0.9700 - meanIoU: 0.5486 - val_loss: 0.0761 - val_accuracy: 0.9764 - val_meanIoU: 0.5191\n",
            "Epoch 15/20\n",
            "162/162 [==============================] - 347s 2s/step - loss: 0.0758 - accuracy: 0.9713 - meanIoU: 0.5638 - val_loss: 0.0749 - val_accuracy: 0.9767 - val_meanIoU: 0.5248\n",
            "Epoch 16/20\n",
            "162/162 [==============================] - 346s 2s/step - loss: 0.0740 - accuracy: 0.9720 - meanIoU: 0.5728 - val_loss: 0.0747 - val_accuracy: 0.9759 - val_meanIoU: 0.5286\n",
            "Epoch 17/20\n",
            "162/162 [==============================] - 346s 2s/step - loss: 0.0718 - accuracy: 0.9729 - meanIoU: 0.5831 - val_loss: 0.0738 - val_accuracy: 0.9754 - val_meanIoU: 0.5315\n",
            "Epoch 18/20\n",
            "162/162 [==============================] - 346s 2s/step - loss: 0.0698 - accuracy: 0.9738 - meanIoU: 0.5947 - val_loss: 0.0731 - val_accuracy: 0.9771 - val_meanIoU: 0.5382\n",
            "Epoch 19/20\n",
            "162/162 [==============================] - 346s 2s/step - loss: 0.0678 - accuracy: 0.9745 - meanIoU: 0.6023 - val_loss: 0.0703 - val_accuracy: 0.9768 - val_meanIoU: 0.5474\n",
            "Epoch 20/20\n",
            "162/162 [==============================] - 345s 2s/step - loss: 0.0657 - accuracy: 0.9754 - meanIoU: 0.6112 - val_loss: 0.0749 - val_accuracy: 0.9755 - val_meanIoU: 0.5320\n"
          ],
          "name": "stdout"
        },
        {
          "output_type": "execute_result",
          "data": {
            "text/plain": [
              "<tensorflow.python.keras.callbacks.History at 0x7f70d71b4550>"
            ]
          },
          "metadata": {
            "tags": []
          },
          "execution_count": 0
        }
      ]
    },
    {
      "cell_type": "code",
      "metadata": {
        "colab": {
          "background_save": true
        },
        "id": "zarddGWQh1N4"
      },
      "source": [
        "import time\n",
        "import matplotlib.pyplot as plt\n",
        "import pandas as pd\n",
        "\n",
        "from PIL import Image\n",
        "from os import listdir\n",
        "\n",
        "%matplotlib inline\n",
        "\n",
        "#iterator = iter(valid_dataset)"
      ],
      "execution_count": null,
      "outputs": []
    },
    {
      "cell_type": "code",
      "metadata": {
        "colab": {
          "background_save": true
        },
        "id": "eF9NMZmA6cU8"
      },
      "source": [
        "\r\n",
        "def rle_encode(img):\r\n",
        "    '''\r\n",
        "    img: numpy array, 1 - foreground, 0 - background\r\n",
        "    Returns run length as string formatted\r\n",
        "    '''\r\n",
        "    pixels = img.flatten()\r\n",
        "    pixels = np.concatenate([[0], pixels, [0]])\r\n",
        "    runs = np.where(pixels[1:] != pixels[:-1])[0] + 1\r\n",
        "    runs[1::2] -= runs[::2]\r\n",
        "    return ' '.join(str(x) for x in runs)\r\n"
      ],
      "execution_count": null,
      "outputs": []
    },
    {
      "cell_type": "code",
      "metadata": {
        "colab": {
          "background_save": true
        },
        "id": "7dwHHob9-X26"
      },
      "source": [
        "def create_mask(pred_mask):\r\n",
        "  pred_mask = tf.argmax(pred_mask, axis=-1)\r\n",
        "  pred_mask = pred_mask[..., tf.newaxis]\r\n",
        "  return pred_mask[0]"
      ],
      "execution_count": null,
      "outputs": []
    },
    {
      "cell_type": "code",
      "metadata": {
        "id": "jSDIqEyoFvVB"
      },
      "source": [
        "import json\r\n",
        "import cv2\r\n",
        "\r\n",
        "submission_dict = {}\r\n",
        "test_dir='/content/Development_Dataset/Test_Dev'\r\n",
        "teams= ['Bipbip','Pead','Roseau','Weedelec']\r\n",
        "plants=['Haricot','Mais']\r\n",
        "\r\n",
        "for team in teams:\r\n",
        "  if (team == 'Bipbip'):\r\n",
        "    shape = (2048,1536) #(W,H)\r\n",
        "  if (team == 'Pead'):\r\n",
        "    shape = (3280,2464)\r\n",
        "  if (team == 'Roseau'):\r\n",
        "    shape = (1227,819)\r\n",
        "  if (team == 'Weedelec'):\r\n",
        "    shape = (5184,3456)\r\n",
        "  for plant in plants:\r\n",
        "    path=test_dir+'/'+team+'/'+plant+'/Images'\r\n",
        "    for image in os.listdir(path):\r\n",
        "      img = Image.open(os.path.join(path, image))\r\n",
        "      imgsize=img.size\r\n",
        "      print(imgsize)\r\n",
        "      \r\n",
        "      #img=img.resize(shape) ### not really needed\r\n",
        "      img=np.array(img)\r\n",
        "      \r\n",
        "      if (team =='Bipbip'):\r\n",
        "        out_sigmoid = model.predict(x=tf.expand_dims(img, 0))\r\n",
        "        predicted_class = tf.argmax(out_sigmoid, -1)\r\n",
        "        predicted_class = predicted_class[0, ...]\r\n",
        "        predicted_class=np.asarray(predicted_class)\r\n",
        "      else :\r\n",
        "        predicted_class = np.zeros([imgsize[0], imgsize[1], 3])\r\n",
        "        predicted_class = np.asarray(predicted_class)\r\n",
        "      \r\n",
        "      if (team == 'Roseau'):\r\n",
        "        img_name = image.replace('.png', '')\r\n",
        "      else:\r\n",
        "        img_name = image.replace('.jpg', '')\r\n",
        "      print(img_name) \r\n",
        "\r\n",
        "      \r\n",
        "      submission_dict[img_name] = {}\r\n",
        "      submission_dict[img_name]['shape'] = predicted_class.shape\r\n",
        "      submission_dict[img_name]['team'] = team\r\n",
        "      submission_dict[img_name]['crop'] = plant\r\n",
        "      submission_dict[img_name]['segmentation'] = {}\r\n",
        "\r\n",
        "      rle_encoded_crop = rle_encode(predicted_class == 1)\r\n",
        "      \r\n",
        "      rle_encoded_weed = rle_encode(predicted_class == 2)\r\n",
        "\r\n",
        "      submission_dict[img_name]['segmentation']['crop'] = rle_encoded_crop\r\n",
        "      submission_dict[img_name]['segmentation']['weed'] = rle_encoded_weed\r\n"
      ],
      "execution_count": null,
      "outputs": []
    },
    {
      "cell_type": "code",
      "metadata": {
        "id": "OEfne82ZY8I_"
      },
      "source": [
        "from datetime import datetime\r\n",
        "\r\n",
        "exps_dir = os.path.join(cwd, 'drive/My Drive/predictions')\r\n",
        "if not os.path.exists(exps_dir):\r\n",
        "    os.makedirs(exps_dir)\r\n",
        "\r\n",
        "\r\n",
        "dir=exps_dir+'/submission'+'_'+datetime.now().strftime('%b%d_%H-%M-%S')+'.json'\r\n",
        "with open(dir, 'w') as f:\r\n",
        "  json.dump(submission_dict, f)"
      ],
      "execution_count": null,
      "outputs": []
    },
    {
      "cell_type": "markdown",
      "metadata": {
        "id": "6ZGZxVaR69Cm"
      },
      "source": [
        "Visualize prediction in validation set example"
      ]
    },
    {
      "cell_type": "code",
      "metadata": {
        "id": "rDkDXJWXh1IN"
      },
      "source": [
        "##### TEST PREDICTION ON VALID DATASET\n",
        "iterator=iter(valid_dataset)\n",
        "\n",
        "\n",
        "image,target = next(iterator)\n",
        "print(image.dtype)\n",
        "image = image[0]\n",
        "target = target[0, ..., 0]\n",
        "\n",
        "print(image.shape)\n",
        "print(target.shape)\n",
        "\n",
        "out_sigmoid = model.predict(x=tf.expand_dims(image, 0))\n",
        "\n",
        "# Get predicted class as the index corresponding to the maximum value in the vector probability\n",
        "# predicted_class = tf.cast(out_sigmoid > score_th, tf.int32)\n",
        "# predicted_class = predicted_class[0, ..., 0]\n",
        "predicted_class = tf.argmax(out_sigmoid, -1)\n",
        "\n",
        "out_sigmoid.shape\n",
        "\n",
        "predicted_class = predicted_class[0, ...]\n",
        "\n",
        "\n",
        "# Assign colors (just for visualization)\n",
        "fig, ax = plt.subplots(1, 3, figsize=(8, 8))\n",
        "fig.show()\n",
        "\n",
        "target_img = np.zeros([target.shape[0], target.shape[1], 3])\n",
        "prediction_img = np.zeros([target.shape[0], target.shape[1], 3])\n",
        "\n",
        "target_img[np.where(target == 0)] = [0, 0, 0]\n",
        "for i in range(1, 3):\n",
        "  target_img[np.where(target == i)] = np.array(colors[i-1])[:3] * 255\n",
        "\n",
        "prediction_img[np.where(predicted_class == 0)] = [0, 0, 0]\n",
        "for i in range(1, 3):\n",
        "  prediction_img[np.where(predicted_class == i)] = np.array(colors[i-1])[:3] * 255\n",
        "\n",
        "ax[0].imshow(np.uint8(image))\n",
        "ax[1].imshow(np.uint8(target_img))\n",
        "ax[2].imshow(np.uint8(prediction_img))\n",
        "\n",
        "fig.canvas.draw()\n",
        "time.sleep(1)"
      ],
      "execution_count": null,
      "outputs": []
    },
    {
      "cell_type": "code",
      "metadata": {
        "id": "Vvzusi2Mhm1A"
      },
      "source": [
        ""
      ],
      "execution_count": null,
      "outputs": []
    },
    {
      "cell_type": "code",
      "metadata": {
        "id": "Dg_BPJdPhmnT"
      },
      "source": [
        ""
      ],
      "execution_count": null,
      "outputs": []
    },
    {
      "cell_type": "code",
      "metadata": {
        "id": "J8-m0ZJQyIqC"
      },
      "source": [
        ""
      ],
      "execution_count": null,
      "outputs": []
    },
    {
      "cell_type": "code",
      "metadata": {
        "id": "xuYIoT-L3eJj"
      },
      "source": [
        ""
      ],
      "execution_count": null,
      "outputs": []
    },
    {
      "cell_type": "code",
      "metadata": {
        "id": "THOCI0s93Xyx"
      },
      "source": [
        ""
      ],
      "execution_count": null,
      "outputs": []
    }
  ]
}