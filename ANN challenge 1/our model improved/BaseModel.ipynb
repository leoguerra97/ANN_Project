{
 "cells": [
  {
   "cell_type": "code",
   "execution_count": 35,
   "metadata": {
    "id": "2HMoT5n0RuYk"
   },
   "outputs": [],
   "source": [
    "import json \n",
    "import tensorflow as tf\n",
    "import numpy as np\n",
    "import os\n",
    "import pandas as pd\n",
    "from datetime import datetime\n",
    "\n",
    "\n",
    "SEED = 1234\n",
    "tf.random.set_seed(SEED)\n",
    "\n",
    "# Get current working directory\n",
    "cwd = os.getcwd()\n"
   ]
  },
  {
   "cell_type": "code",
   "execution_count": 36,
   "metadata": {
    "id": "CFhu1fS6dLA4"
   },
   "outputs": [],
   "source": [
    "from IPython.core.interactiveshell import InteractiveShell\n",
    "InteractiveShell.ast_node_interactivity = \"all\""
   ]
  },
  {
   "cell_type": "code",
   "execution_count": 37,
   "metadata": {
    "colab": {
     "base_uri": "https://localhost:8080/"
    },
    "id": "wjaGMBnzTFot",
    "outputId": "7dd6d7a6-d0de-4b11-a042-6d3dd8d7f370"
   },
   "outputs": [
    {
     "name": "stdout",
     "output_type": "stream",
     "text": [
      "Drive already mounted at /content/drive; to attempt to forcibly remount, call drive.mount(\"/content/drive\", force_remount=True).\n"
     ]
    }
   ],
   "source": [
    "#Data\n",
    "from google.colab import drive\n",
    "drive.mount('/content/drive') \n"
   ]
  },
  {
   "cell_type": "code",
   "execution_count": 38,
   "metadata": {
    "colab": {
     "base_uri": "https://localhost:8080/"
    },
    "id": "P8G9rBNwk0vu",
    "outputId": "7ce3b32e-0e40-4fb6-9e0d-63f9122c42a1"
   },
   "outputs": [
    {
     "name": "stdout",
     "output_type": "stream",
     "text": [
      "Archive:  /content/drive/My Drive/artificial-neural-networks-and-deep-learning-2020.zip\n",
      "replace MaskDataset/.DS_Store? [y]es, [n]o, [A]ll, [N]one, [r]ename: n\n",
      "replace __MACOSX/MaskDataset/._.DS_Store? [y]es, [n]o, [A]ll, [N]one, [r]ename: N\n"
     ]
    }
   ],
   "source": [
    "!unzip '/content/drive/My Drive/artificial-neural-networks-and-deep-learning-2020.zip'"
   ]
  },
  {
   "cell_type": "code",
   "execution_count": 39,
   "metadata": {
    "colab": {
     "base_uri": "https://localhost:8080/"
    },
    "id": "96v4kToeU_Q0",
    "outputId": "5c32bb9c-f909-4826-aa1d-6c81777dc94d"
   },
   "outputs": [
    {
     "name": "stdout",
     "output_type": "stream",
     "text": [
      "Found 4492 validated image filenames belonging to 3 classes.\n",
      "Found 1122 validated image filenames belonging to 3 classes.\n"
     ]
    }
   ],
   "source": [
    "#datagenerator\n",
    "from tensorflow.keras.preprocessing.image import ImageDataGenerator\n",
    "\n",
    "\n",
    "apply_data_augmentation = False\n",
    "\n",
    "# Create training ImageDataGenerator object\n",
    "\n",
    "if apply_data_augmentation:\n",
    "    train_data_gen = ImageDataGenerator(rotation_range=10,\n",
    "                                        width_shift_range=10,\n",
    "                                        height_shift_range=10,\n",
    "                                        zoom_range=0.3,\n",
    "                                        vertical_flip=True,\n",
    "                                        validation_split=0.2,\n",
    "                                        fill_mode='constant',\n",
    "                                        cval=0,\n",
    "                                        rescale=1./255)\n",
    "else:\n",
    "    train_data_gen = ImageDataGenerator(rescale=1./255,\n",
    "                                        validation_split=0.2)\n",
    "\n",
    "# Create validation and test ImageDataGenerator objects\n",
    "valid_data_gen = ImageDataGenerator(rescale=1./255)\n",
    "test_data_gen = ImageDataGenerator(rescale=1./255)\n",
    "\n",
    "#set directories\n",
    "dataset_dir = os.path.join(cwd, \"MaskDataset\")\n",
    "training_dir= os.path.join(dataset_dir,\"training\")\n",
    "\n",
    "#Batch size\n",
    "BS = 64\n",
    "\n",
    "#Image shape\n",
    "IMG_H = 407 #612\n",
    "IMG_W = 407\n",
    "\n",
    "num_classes=3\n",
    "\n",
    "\n",
    "with open(os.path.join(dataset_dir,\"train_gt.json\")) as f:\n",
    "  dic=json.load(f)\n",
    "  dataframe= pd.DataFrame(dic.items())\n",
    "  dataframe.rename(columns={0:'filename', 1:'class'}, inplace=True )\n",
    "  dataframe=dataframe.sample(frac=1, random_state=SEED)\n",
    "  dataframe[\"class\"]=dataframe[\"class\"].astype('string')\n",
    "  train_gen = train_data_gen.flow_from_dataframe(dataframe,\n",
    "                                                 training_dir,\n",
    "                                                 batch_size=BS,\n",
    "                                                 target_size=(IMG_H, IMG_W),\n",
    "                                                 class_mode='categorical',\n",
    "                                                 shuffle=True,\n",
    "                                                 seed=SEED,\n",
    "                                                 subset='training',\n",
    "                                                 image_size=(IMG_H,IMG_W))\n",
    "  \n",
    "  validation_gen = train_data_gen.flow_from_dataframe(dataframe,\n",
    "                                                 training_dir,\n",
    "                                                 batch_size=BS,\n",
    "                                                 target_size=(IMG_H, IMG_W),\n",
    "                                                 class_mode='categorical',\n",
    "                                                 shuffle=False,\n",
    "                                                 seed=SEED,\n",
    "                                                 subset='validation',\n",
    "                                                 image_size=(IMG_H,IMG_W))\n",
    "  \n",
    "\n",
    "\n"
   ]
  },
  {
   "cell_type": "code",
   "execution_count": 40,
   "metadata": {
    "id": "AOnHlXKSTXVt"
   },
   "outputs": [],
   "source": [
    "#create Dataset Object\n",
    "\n",
    "#Training\n",
    "train_dataset = tf.data.Dataset.from_generator(lambda: train_gen,\n",
    "                                               output_types=(tf.float32, tf.float32),\n",
    "                                               output_shapes=([None, IMG_H, IMG_W, 3], [None, num_classes]))\n",
    "\n",
    "\n",
    "train_dataset = train_dataset.repeat()\n",
    "\n",
    "#Validation\n",
    "valid_dataset = tf.data.Dataset.from_generator(lambda: validation_gen, \n",
    "                                               output_types=(tf.float32, tf.float32),\n",
    "                                               output_shapes=([None, IMG_H, IMG_W, 3], [None, num_classes]))\n",
    "\n",
    "valid_dataset = valid_dataset.repeat()\n"
   ]
  },
  {
   "cell_type": "code",
   "execution_count": 41,
   "metadata": {
    "id": "yp4WYQ2zUUla"
   },
   "outputs": [],
   "source": [
    "# Architecture: Features extraction -> Classifier\n",
    "\n",
    "start_f = 25 # number of feature \n",
    "depth = 8 #how many encoding block \n",
    "\n",
    "model = tf.keras.Sequential() #sequential model\n",
    "\n",
    "# Features extraction \n",
    "for i in range(depth):\n",
    "    if i == 0:  #at the first layer I have to define the input shape as a list. so my input is the image dimension \n",
    "        input_shape = [IMG_H, IMG_W, 3]\n",
    "    else:\n",
    "        input_shape=[None] #otherwise we left as unknown \n",
    "\n",
    "    #Conv block: Conv2D -> Activation -> Pooling\n",
    "    model.add(tf.keras.layers.Conv2D(filters=start_f, \n",
    "                                     kernel_size=(3, 3),\n",
    "                                     strides=(1, 1),\n",
    "                                     padding='same',\n",
    "                                     input_shape=input_shape))\n",
    "    model.add(tf.keras.layers.ReLU()) #activation layer\n",
    "    model.add(tf.keras.layers.MaxPool2D(pool_size=(2, 2)))\n",
    "    #that is 2,2 -> so halved the dimension \n",
    "\n",
    "    start_f *= 2\n",
    "\n",
    "# Classifier\n",
    "#I vectorize the volume and apply classifier \n",
    "model.add(tf.keras.layers.Flatten())\n",
    "model.add(tf.keras.layers.Dense(units=512, activation='relu'))\n",
    "model.add(tf.keras.layers.Dropout(0.2, seed=SEED))\n",
    "model.add(tf.keras.layers.Dense(units=num_classes, activation='softmax'))"
   ]
  },
  {
   "cell_type": "code",
   "execution_count": 42,
   "metadata": {
    "colab": {
     "base_uri": "https://localhost:8080/"
    },
    "id": "C3E7U71nKBMs",
    "outputId": "d2746acd-0f06-4dc0-b36d-b35ca4c9b499"
   },
   "outputs": [
    {
     "name": "stdout",
     "output_type": "stream",
     "text": [
      "Model: \"sequential_10\"\n",
      "_________________________________________________________________\n",
      "Layer (type)                 Output Shape              Param #   \n",
      "=================================================================\n",
      "conv2d_84 (Conv2D)           (None, 407, 407, 25)      700       \n",
      "_________________________________________________________________\n",
      "re_lu_84 (ReLU)              (None, 407, 407, 25)      0         \n",
      "_________________________________________________________________\n",
      "max_pooling2d_84 (MaxPooling (None, 203, 203, 25)      0         \n",
      "_________________________________________________________________\n",
      "conv2d_85 (Conv2D)           (None, 203, 203, 50)      11300     \n",
      "_________________________________________________________________\n",
      "re_lu_85 (ReLU)              (None, 203, 203, 50)      0         \n",
      "_________________________________________________________________\n",
      "max_pooling2d_85 (MaxPooling (None, 101, 101, 50)      0         \n",
      "_________________________________________________________________\n",
      "conv2d_86 (Conv2D)           (None, 101, 101, 100)     45100     \n",
      "_________________________________________________________________\n",
      "re_lu_86 (ReLU)              (None, 101, 101, 100)     0         \n",
      "_________________________________________________________________\n",
      "max_pooling2d_86 (MaxPooling (None, 50, 50, 100)       0         \n",
      "_________________________________________________________________\n",
      "conv2d_87 (Conv2D)           (None, 50, 50, 200)       180200    \n",
      "_________________________________________________________________\n",
      "re_lu_87 (ReLU)              (None, 50, 50, 200)       0         \n",
      "_________________________________________________________________\n",
      "max_pooling2d_87 (MaxPooling (None, 25, 25, 200)       0         \n",
      "_________________________________________________________________\n",
      "conv2d_88 (Conv2D)           (None, 25, 25, 400)       720400    \n",
      "_________________________________________________________________\n",
      "re_lu_88 (ReLU)              (None, 25, 25, 400)       0         \n",
      "_________________________________________________________________\n",
      "max_pooling2d_88 (MaxPooling (None, 12, 12, 400)       0         \n",
      "_________________________________________________________________\n",
      "conv2d_89 (Conv2D)           (None, 12, 12, 800)       2880800   \n",
      "_________________________________________________________________\n",
      "re_lu_89 (ReLU)              (None, 12, 12, 800)       0         \n",
      "_________________________________________________________________\n",
      "max_pooling2d_89 (MaxPooling (None, 6, 6, 800)         0         \n",
      "_________________________________________________________________\n",
      "conv2d_90 (Conv2D)           (None, 6, 6, 1600)        11521600  \n",
      "_________________________________________________________________\n",
      "re_lu_90 (ReLU)              (None, 6, 6, 1600)        0         \n",
      "_________________________________________________________________\n",
      "max_pooling2d_90 (MaxPooling (None, 3, 3, 1600)        0         \n",
      "_________________________________________________________________\n",
      "conv2d_91 (Conv2D)           (None, 3, 3, 3200)        46083200  \n",
      "_________________________________________________________________\n",
      "re_lu_91 (ReLU)              (None, 3, 3, 3200)        0         \n",
      "_________________________________________________________________\n",
      "max_pooling2d_91 (MaxPooling (None, 1, 1, 3200)        0         \n",
      "_________________________________________________________________\n",
      "flatten_6 (Flatten)          (None, 3200)              0         \n",
      "_________________________________________________________________\n",
      "dense_11 (Dense)             (None, 512)               1638912   \n",
      "_________________________________________________________________\n",
      "dropout_5 (Dropout)          (None, 512)               0         \n",
      "_________________________________________________________________\n",
      "dense_12 (Dense)             (None, 3)                 1539      \n",
      "=================================================================\n",
      "Total params: 63,083,751\n",
      "Trainable params: 63,083,751\n",
      "Non-trainable params: 0\n",
      "_________________________________________________________________\n"
     ]
    }
   ],
   "source": [
    "# Visualize created model as a table\n",
    "model.summary()\n",
    "\n",
    "# Visualize initialized weights\n",
    "#model.weights "
   ]
  },
  {
   "cell_type": "code",
   "execution_count": 43,
   "metadata": {
    "id": "CSjGk6adKtl3"
   },
   "outputs": [],
   "source": [
    "# Optimization params\n",
    "\n",
    "# Loss\n",
    "loss = tf.keras.losses.CategoricalCrossentropy()\n",
    "\n",
    "# learning rate\n",
    "lr = 1e-4\n",
    "optimizer = tf.keras.optimizers.Adam(learning_rate=lr)\n",
    "\n",
    "# Validation metrics\n",
    "metrics = ['accuracy']\n",
    "\n",
    "# Compile Model\n",
    "model.compile(optimizer=optimizer, loss=loss, metrics=metrics)"
   ]
  },
  {
   "cell_type": "code",
   "execution_count": 44,
   "metadata": {
    "id": "wRODviYhAvgH"
   },
   "outputs": [],
   "source": [
    "#Callbacks and checkpoints\n",
    "\n",
    "cwd = os.getcwd()\n",
    "\n",
    "exps_dir = os.path.join('/content/drive/My Drive/Keras/', 'classification_experiments')\n",
    "if not os.path.exists(exps_dir):\n",
    "    os.makedirs(exps_dir)\n",
    "\n",
    "now = datetime.now().strftime('%b%d_%H-%M-%S')\n",
    "\n",
    "model_name = 'First'\n",
    "\n",
    "exp_dir = os.path.join(exps_dir, model_name + '_' + str(now))\n",
    "if not os.path.exists(exp_dir):\n",
    "    os.makedirs(exp_dir)\n",
    "    \n",
    "callbacks = []\n",
    "\n",
    "#Model checkpoint\n",
    "ckpt_dir = os.path.join(exp_dir, 'ckpts')\n",
    "if not os.path.exists(ckpt_dir):\n",
    "    os.makedirs(ckpt_dir)\n",
    "\n",
    "ckpt_callback = tf.keras.callbacks.ModelCheckpoint(filepath=os.path.join(ckpt_dir, 'cp_{epoch:02d}.ckpt'), \n",
    "                                                   save_best_only=True, \n",
    "                                                   save_freq = 142,\n",
    "                                                   save_weights_only=True)  # False to save the model directly\n",
    "callbacks.append(ckpt_callback)\n",
    "\n",
    "# Visualize Learning on Tensorboard\n",
    "tb_dir = os.path.join(exp_dir, 'tb_logs')\n",
    "if not os.path.exists(tb_dir):\n",
    "    os.makedirs(tb_dir)\n",
    "    \n",
    "# By default shows losses and metrics for both training and validation\n",
    "tb_callback = tf.keras.callbacks.TensorBoard(log_dir=tb_dir,\n",
    "                                             profile_batch=0,\n",
    "                                             histogram_freq=1)  # if 1 shows weights histograms\n",
    "callbacks.append(tb_callback)\n",
    "\n",
    "# Early Stopping\n",
    "# --------------\n",
    "early_stop = True\n",
    "if early_stop:\n",
    "    es_callback = tf.keras.callbacks.EarlyStopping(monitor='val_loss', patience=6,restore_best_weights = True )\n",
    "    callbacks.append(es_callback)"
   ]
  },
  {
   "cell_type": "code",
   "execution_count": 45,
   "metadata": {
    "colab": {
     "base_uri": "https://localhost:8080/"
    },
    "id": "fUQCxJ0oMBcb",
    "outputId": "45dbe170-3431-4584-fa7f-ffcf12ce568b"
   },
   "outputs": [
    {
     "name": "stdout",
     "output_type": "stream",
     "text": [
      "Epoch 1/30\n",
      "71/71 [==============================] - 79s 1s/step - loss: 1.0998 - accuracy: 0.3344 - val_loss: 1.0985 - val_accuracy: 0.3307\n",
      "Epoch 2/30\n",
      "70/71 [============================>.] - ETA: 0s - loss: 1.0986 - accuracy: 0.3429WARNING:tensorflow:Can save best model only with val_loss available, skipping.\n",
      "71/71 [==============================] - 77s 1s/step - loss: 1.0986 - accuracy: 0.3428 - val_loss: 1.0981 - val_accuracy: 0.3333\n",
      "Epoch 3/30\n",
      "71/71 [==============================] - 77s 1s/step - loss: 1.0981 - accuracy: 0.3522 - val_loss: 1.0979 - val_accuracy: 0.3378\n",
      "Epoch 4/30\n",
      "70/71 [============================>.] - ETA: 0s - loss: 1.0587 - accuracy: 0.4319WARNING:tensorflow:Can save best model only with val_loss available, skipping.\n",
      "71/71 [==============================] - 76s 1s/step - loss: 1.0582 - accuracy: 0.4325 - val_loss: 0.9639 - val_accuracy: 0.5107\n",
      "Epoch 5/30\n",
      "71/71 [==============================] - 76s 1s/step - loss: 0.8171 - accuracy: 0.6049 - val_loss: 0.7202 - val_accuracy: 0.6667\n",
      "Epoch 6/30\n",
      "70/71 [============================>.] - ETA: 0s - loss: 0.6778 - accuracy: 0.6804WARNING:tensorflow:Can save best model only with val_loss available, skipping.\n",
      "71/71 [==============================] - 75s 1s/step - loss: 0.6777 - accuracy: 0.6805 - val_loss: 0.6535 - val_accuracy: 0.6988\n",
      "Epoch 7/30\n",
      "71/71 [==============================] - 76s 1s/step - loss: 0.5876 - accuracy: 0.7231 - val_loss: 0.5788 - val_accuracy: 0.7201\n",
      "Epoch 8/30\n",
      "70/71 [============================>.] - ETA: 0s - loss: 0.5423 - accuracy: 0.7509WARNING:tensorflow:Can save best model only with val_loss available, skipping.\n",
      "71/71 [==============================] - 75s 1s/step - loss: 0.5419 - accuracy: 0.7511 - val_loss: 0.5678 - val_accuracy: 0.7478\n",
      "Epoch 9/30\n",
      "71/71 [==============================] - 77s 1s/step - loss: 0.4784 - accuracy: 0.7778 - val_loss: 0.5361 - val_accuracy: 0.7567\n",
      "Epoch 10/30\n",
      "70/71 [============================>.] - ETA: 0s - loss: 0.4426 - accuracy: 0.7953WARNING:tensorflow:Can save best model only with val_loss available, skipping.\n",
      "71/71 [==============================] - 75s 1s/step - loss: 0.4420 - accuracy: 0.7954 - val_loss: 0.5514 - val_accuracy: 0.7567\n",
      "Epoch 11/30\n",
      "71/71 [==============================] - 76s 1s/step - loss: 0.3973 - accuracy: 0.8219 - val_loss: 0.5994 - val_accuracy: 0.7184\n",
      "Epoch 12/30\n",
      "70/71 [============================>.] - ETA: 0s - loss: 0.3474 - accuracy: 0.8462WARNING:tensorflow:Can save best model only with val_loss available, skipping.\n",
      "71/71 [==============================] - 75s 1s/step - loss: 0.3472 - accuracy: 0.8464 - val_loss: 0.5606 - val_accuracy: 0.7683\n",
      "Epoch 13/30\n",
      "71/71 [==============================] - 75s 1s/step - loss: 0.2964 - accuracy: 0.8707 - val_loss: 0.5756 - val_accuracy: 0.7504\n",
      "Epoch 14/30\n",
      "70/71 [============================>.] - ETA: 0s - loss: 0.2396 - accuracy: 0.8989WARNING:tensorflow:Can save best model only with val_loss available, skipping.\n",
      "71/71 [==============================] - 75s 1s/step - loss: 0.2393 - accuracy: 0.8989 - val_loss: 0.8182 - val_accuracy: 0.7157\n",
      "Epoch 15/30\n",
      "71/71 [==============================] - 75s 1s/step - loss: 0.1988 - accuracy: 0.9203 - val_loss: 0.7270 - val_accuracy: 0.7424\n"
     ]
    },
    {
     "data": {
      "text/plain": [
       "<tensorflow.python.keras.callbacks.History at 0x7f04c67c2be0>"
      ]
     },
     "execution_count": 45,
     "metadata": {
      "tags": []
     },
     "output_type": "execute_result"
    }
   ],
   "source": [
    "model.fit(x=train_dataset,\n",
    "          epochs=30,  #### set repeat in training dataset\n",
    "          steps_per_epoch=len(train_gen),\n",
    "          validation_data=valid_dataset,\n",
    "          validation_steps=len(validation_gen),\n",
    "          callbacks=callbacks)\n"
   ]
  },
  {
   "cell_type": "code",
   "execution_count": 46,
   "metadata": {
    "colab": {
     "base_uri": "https://localhost:8080/"
    },
    "id": "aDUS_ZIPB-Yr",
    "outputId": "795b3a5d-3b22-4d6e-cd7e-87f0a5aa8a82"
   },
   "outputs": [
    {
     "name": "stdout",
     "output_type": "stream",
     "text": [
      "Found 450 validated image filenames belonging to 1 classes.\n",
      "8/8 [==============================] - 3s 427ms/step\n"
     ]
    }
   ],
   "source": [
    "#create prediction and csv\n",
    "from os import listdir\n",
    "\n",
    "def create_csv(results, results_dir='./'):\n",
    "\n",
    "    csv_fname = 'results_'\n",
    "    csv_fname += datetime.now().strftime('%b%d_%H-%M-%S') + '.csv'\n",
    "\n",
    "    with open(os.path.join(results_dir, csv_fname), 'w') as f:\n",
    "\n",
    "        f.write('Id,Category\\n')\n",
    "\n",
    "        for key, value in results.items():\n",
    "            f.write(key + ',' + str(value) + '\\n')\n",
    "\n",
    "\n",
    "test_dir = os.path.join(dataset_dir, 'test')\n",
    "\n",
    "images = [f for f in listdir(test_dir)]\n",
    "images = pd.DataFrame(images)\n",
    "images.rename(columns = {0:'filename'}, inplace = True)\n",
    "images[\"class\"] = 'test'\n",
    "\n",
    "test_gen = train_data_gen.flow_from_dataframe(images,\n",
    "                                               test_dir,\n",
    "                                               batch_size=BS,\n",
    "                                               target_size=(IMG_H, IMG_W),\n",
    "                                               class_mode='categorical',\n",
    "                                               shuffle=False,\n",
    "                                               seed=SEED)\n",
    "\n",
    "\n",
    "test_gen.reset()\n",
    "\n",
    "predictions = model.predict_generator(test_gen, len(test_gen), verbose=1)\n",
    "\n",
    "results = {}\n",
    "images = test_gen.filenames\n",
    "i = 0\n",
    "\n",
    "for p in predictions:\n",
    "  prediction = np.argmax(p)\n",
    "  import ntpath\n",
    "  image_name = ntpath.basename(images[i])\n",
    "  results[image_name] = str(prediction)\n",
    "  i = i + 1\n",
    "\n",
    "\n",
    "\n"
   ]
  },
  {
   "cell_type": "code",
   "execution_count": 47,
   "metadata": {
    "id": "j7JH-YeiERLh"
   },
   "outputs": [],
   "source": [
    "create_csv(results, '/content/drive/My Drive')"
   ]
  }
 ],
 "metadata": {
  "accelerator": "GPU",
  "colab": {
   "collapsed_sections": [],
   "name": "Prova2.ipynb",
   "provenance": []
  },
  "kernelspec": {
   "display_name": "Python 3",
   "language": "python",
   "name": "python3"
  },
  "language_info": {
   "codemirror_mode": {
    "name": "ipython",
    "version": 3
   },
   "file_extension": ".py",
   "mimetype": "text/x-python",
   "name": "python",
   "nbconvert_exporter": "python",
   "pygments_lexer": "ipython3",
   "version": "3.7.9"
  }
 },
 "nbformat": 4,
 "nbformat_minor": 1
}
