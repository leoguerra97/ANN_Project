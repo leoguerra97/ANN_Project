{
  "nbformat": 4,
  "nbformat_minor": 0,
  "metadata": {
    "colab": {
      "name": "BaseModel.ipynb",
      "provenance": [],
      "collapsed_sections": []
    },
    "kernelspec": {
      "name": "python3",
      "display_name": "Python 3"
    },
    "accelerator": "GPU"
  },
  "cells": [
    {
      "cell_type": "markdown",
      "metadata": {
        "id": "JNPS_pVmxpr0"
      },
      "source": [
        "This is our base model. It implements an architecture composed of a feature extraction part, made up of 8 convolutional blocks, followed by a classifier with one 512 dense layer with dropout."
      ]
    },
    {
      "cell_type": "code",
      "metadata": {
        "id": "2HMoT5n0RuYk"
      },
      "source": [
        "#Imports\n",
        "import json \n",
        "import tensorflow as tf\n",
        "import numpy as np\n",
        "import os\n",
        "import pandas as pd\n",
        "from datetime import datetime\n",
        "from os import listdir\n",
        "from tensorflow.keras.preprocessing.image import ImageDataGenerator\n",
        "\n",
        "#Set seed to ensure experiment replication\n",
        "SEED = 1234\n",
        "tf.random.set_seed(SEED)\n",
        "\n",
        "# Get current working directory\n",
        "cwd = os.getcwd()\n"
      ],
      "execution_count": null,
      "outputs": []
    },
    {
      "cell_type": "code",
      "metadata": {
        "id": "CFhu1fS6dLA4"
      },
      "source": [
        "from IPython.core.interactiveshell import InteractiveShell\n",
        "InteractiveShell.ast_node_interactivity = \"all\""
      ],
      "execution_count": null,
      "outputs": []
    },
    {
      "cell_type": "code",
      "metadata": {
        "id": "wjaGMBnzTFot"
      },
      "source": [
        "#Connect to Drive to fetch data\n",
        "from google.colab import drive\n",
        "drive.mount('/content/drive') \n"
      ],
      "execution_count": null,
      "outputs": []
    },
    {
      "cell_type": "code",
      "metadata": {
        "id": "P8G9rBNwk0vu"
      },
      "source": [
        "#unzip the data\n",
        "!unzip '/content/drive/My Drive/artificial-neural-networks-and-deep-learning-2020.zip'"
      ],
      "execution_count": null,
      "outputs": []
    },
    {
      "cell_type": "code",
      "metadata": {
        "id": "96v4kToeU_Q0",
        "colab": {
          "base_uri": "https://localhost:8080/"
        },
        "outputId": "5c32bb9c-f909-4826-aa1d-6c81777dc94d"
      },
      "source": [
        "#Create Data Generators\n",
        "#Training data augmentation to training data Toggle\n",
        "\n",
        "apply_data_augmentation = False\n",
        "\n",
        "# Create training ImageDataGenerator object\n",
        "if apply_data_augmentation:\n",
        "    train_data_gen = ImageDataGenerator(rotation_range=10,\n",
        "                                        width_shift_range=10,\n",
        "                                        height_shift_range=10,\n",
        "                                        zoom_range=0.3,\n",
        "                                        vertical_flip=True,\n",
        "                                        validation_split=0.2,\n",
        "                                        fill_mode='constant',\n",
        "                                        cval=0,\n",
        "                                        rescale=1./255)\n",
        "else:\n",
        "    train_data_gen = ImageDataGenerator(rescale=1./255,\n",
        "                                        validation_split=0.2)\n",
        "\n",
        "# Create validation and test ImageDataGenerator objects\n",
        "valid_data_gen = ImageDataGenerator(rescale=1./255)\n",
        "test_data_gen = ImageDataGenerator(rescale=1./255)\n",
        "\n",
        "#set directories\n",
        "dataset_dir = os.path.join(cwd, \"MaskDataset\")\n",
        "training_dir= os.path.join(dataset_dir,\"training\")\n",
        "\n",
        "#Batch size\n",
        "BS = 64\n",
        "\n",
        "#Image shape\n",
        "IMG_H = 407\n",
        "IMG_W = 407\n",
        "\n",
        "num_classes=3\n",
        "\n",
        "\n",
        "with open(os.path.join(dataset_dir,\"train_gt.json\")) as f:\n",
        "  dic=json.load(f)\n",
        "  dataframe= pd.DataFrame(dic.items())\n",
        "  dataframe.rename(columns={0:'filename', 1:'class'}, inplace=True )\n",
        "  dataframe=dataframe.sample(frac=1, random_state=SEED)\n",
        "  dataframe[\"class\"]=dataframe[\"class\"].astype('string')\n",
        "  train_gen = train_data_gen.flow_from_dataframe(dataframe,\n",
        "                                                 training_dir,\n",
        "                                                 batch_size=BS,\n",
        "                                                 target_size=(IMG_H, IMG_W),\n",
        "                                                 class_mode='categorical',\n",
        "                                                 shuffle=True,\n",
        "                                                 seed=SEED,\n",
        "                                                 subset='training',\n",
        "                                                 image_size=(IMG_H,IMG_W))\n",
        "  \n",
        "  validation_gen = train_data_gen.flow_from_dataframe(dataframe,\n",
        "                                                 training_dir,\n",
        "                                                 batch_size=BS,\n",
        "                                                 target_size=(IMG_H, IMG_W),\n",
        "                                                 class_mode='categorical',\n",
        "                                                 shuffle=False,\n",
        "                                                 seed=SEED,\n",
        "                                                 subset='validation',\n",
        "                                                 image_size=(IMG_H,IMG_W))\n",
        "  \n",
        "\n",
        "\n"
      ],
      "execution_count": null,
      "outputs": [
        {
          "output_type": "stream",
          "text": [
            "Found 4492 validated image filenames belonging to 3 classes.\n",
            "Found 1122 validated image filenames belonging to 3 classes.\n"
          ],
          "name": "stdout"
        }
      ]
    },
    {
      "cell_type": "code",
      "metadata": {
        "id": "AOnHlXKSTXVt"
      },
      "source": [
        "#create Dataset Object\n",
        "\n",
        "#Training\n",
        "train_dataset = tf.data.Dataset.from_generator(lambda: train_gen,\n",
        "                                               output_types=(tf.float32, tf.float32),\n",
        "                                               output_shapes=([None, IMG_H, IMG_W, 3], [None, num_classes]))\n",
        "\n",
        "\n",
        "train_dataset = train_dataset.repeat()\n",
        "\n",
        "#Validation\n",
        "valid_dataset = tf.data.Dataset.from_generator(lambda: validation_gen, \n",
        "                                               output_types=(tf.float32, tf.float32),\n",
        "                                               output_shapes=([None, IMG_H, IMG_W, 3], [None, num_classes]))\n",
        "\n",
        "valid_dataset = valid_dataset.repeat()\n"
      ],
      "execution_count": null,
      "outputs": []
    },
    {
      "cell_type": "code",
      "metadata": {
        "id": "yp4WYQ2zUUla"
      },
      "source": [
        "# Architecture: Features extraction -> Classifier\n",
        "\n",
        "start_f = 25 # number of feature \n",
        "depth = 8 #how many encoding block \n",
        "\n",
        "model = tf.keras.Sequential() #sequential model\n",
        "\n",
        "#Features extraction \n",
        "for i in range(depth):\n",
        "    if i == 0:  \n",
        "        input_shape = [IMG_H, IMG_W, 3]\n",
        "    else:\n",
        "        input_shape=[None]  \n",
        "\n",
        "    #Convolutional block: Conv2D -> Activation -> Pooling\n",
        "    model.add(tf.keras.layers.Conv2D(filters=start_f, \n",
        "                                     kernel_size=(3, 3),\n",
        "                                     strides=(1, 1),\n",
        "                                     padding='same',\n",
        "                                     input_shape=input_shape))\n",
        "    model.add(tf.keras.layers.ReLU()) #activation layer\n",
        "    model.add(tf.keras.layers.MaxPool2D(pool_size=(2, 2)))\n",
        "\n",
        "    start_f *= 2\n",
        "\n",
        "# Classifier\n",
        "#I vectorize the volume and apply classifier \n",
        "model.add(tf.keras.layers.Flatten())\n",
        "model.add(tf.keras.layers.Dense(units=512, activation='relu'))\n",
        "model.add(tf.keras.layers.Dropout(0.2, seed=SEED))\n",
        "model.add(tf.keras.layers.Dense(units=num_classes, activation='softmax'))"
      ],
      "execution_count": null,
      "outputs": []
    },
    {
      "cell_type": "code",
      "metadata": {
        "id": "C3E7U71nKBMs",
        "colab": {
          "base_uri": "https://localhost:8080/"
        },
        "outputId": "d2746acd-0f06-4dc0-b36d-b35ca4c9b499"
      },
      "source": [
        "# Visualize created model as a table\n",
        "model.summary()\n",
        "\n",
        "# Visualize initialized weights\n",
        "#model.weights "
      ],
      "execution_count": null,
      "outputs": [
        {
          "output_type": "stream",
          "text": [
            "Model: \"sequential_10\"\n",
            "_________________________________________________________________\n",
            "Layer (type)                 Output Shape              Param #   \n",
            "=================================================================\n",
            "conv2d_84 (Conv2D)           (None, 407, 407, 25)      700       \n",
            "_________________________________________________________________\n",
            "re_lu_84 (ReLU)              (None, 407, 407, 25)      0         \n",
            "_________________________________________________________________\n",
            "max_pooling2d_84 (MaxPooling (None, 203, 203, 25)      0         \n",
            "_________________________________________________________________\n",
            "conv2d_85 (Conv2D)           (None, 203, 203, 50)      11300     \n",
            "_________________________________________________________________\n",
            "re_lu_85 (ReLU)              (None, 203, 203, 50)      0         \n",
            "_________________________________________________________________\n",
            "max_pooling2d_85 (MaxPooling (None, 101, 101, 50)      0         \n",
            "_________________________________________________________________\n",
            "conv2d_86 (Conv2D)           (None, 101, 101, 100)     45100     \n",
            "_________________________________________________________________\n",
            "re_lu_86 (ReLU)              (None, 101, 101, 100)     0         \n",
            "_________________________________________________________________\n",
            "max_pooling2d_86 (MaxPooling (None, 50, 50, 100)       0         \n",
            "_________________________________________________________________\n",
            "conv2d_87 (Conv2D)           (None, 50, 50, 200)       180200    \n",
            "_________________________________________________________________\n",
            "re_lu_87 (ReLU)              (None, 50, 50, 200)       0         \n",
            "_________________________________________________________________\n",
            "max_pooling2d_87 (MaxPooling (None, 25, 25, 200)       0         \n",
            "_________________________________________________________________\n",
            "conv2d_88 (Conv2D)           (None, 25, 25, 400)       720400    \n",
            "_________________________________________________________________\n",
            "re_lu_88 (ReLU)              (None, 25, 25, 400)       0         \n",
            "_________________________________________________________________\n",
            "max_pooling2d_88 (MaxPooling (None, 12, 12, 400)       0         \n",
            "_________________________________________________________________\n",
            "conv2d_89 (Conv2D)           (None, 12, 12, 800)       2880800   \n",
            "_________________________________________________________________\n",
            "re_lu_89 (ReLU)              (None, 12, 12, 800)       0         \n",
            "_________________________________________________________________\n",
            "max_pooling2d_89 (MaxPooling (None, 6, 6, 800)         0         \n",
            "_________________________________________________________________\n",
            "conv2d_90 (Conv2D)           (None, 6, 6, 1600)        11521600  \n",
            "_________________________________________________________________\n",
            "re_lu_90 (ReLU)              (None, 6, 6, 1600)        0         \n",
            "_________________________________________________________________\n",
            "max_pooling2d_90 (MaxPooling (None, 3, 3, 1600)        0         \n",
            "_________________________________________________________________\n",
            "conv2d_91 (Conv2D)           (None, 3, 3, 3200)        46083200  \n",
            "_________________________________________________________________\n",
            "re_lu_91 (ReLU)              (None, 3, 3, 3200)        0         \n",
            "_________________________________________________________________\n",
            "max_pooling2d_91 (MaxPooling (None, 1, 1, 3200)        0         \n",
            "_________________________________________________________________\n",
            "flatten_6 (Flatten)          (None, 3200)              0         \n",
            "_________________________________________________________________\n",
            "dense_11 (Dense)             (None, 512)               1638912   \n",
            "_________________________________________________________________\n",
            "dropout_5 (Dropout)          (None, 512)               0         \n",
            "_________________________________________________________________\n",
            "dense_12 (Dense)             (None, 3)                 1539      \n",
            "=================================================================\n",
            "Total params: 63,083,751\n",
            "Trainable params: 63,083,751\n",
            "Non-trainable params: 0\n",
            "_________________________________________________________________\n"
          ],
          "name": "stdout"
        }
      ]
    },
    {
      "cell_type": "code",
      "metadata": {
        "id": "CSjGk6adKtl3"
      },
      "source": [
        "# Optimization params\n",
        "\n",
        "# Loss\n",
        "loss = tf.keras.losses.CategoricalCrossentropy()\n",
        "\n",
        "# learning rate\n",
        "lr = 1e-4\n",
        "optimizer = tf.keras.optimizers.Adam(learning_rate=lr)\n",
        "\n",
        "# Validation metrics\n",
        "metrics = ['accuracy']\n",
        "\n",
        "# Compile Model\n",
        "model.compile(optimizer=optimizer, loss=loss, metrics=metrics)"
      ],
      "execution_count": null,
      "outputs": []
    },
    {
      "cell_type": "code",
      "metadata": {
        "id": "wRODviYhAvgH"
      },
      "source": [
        "#create Callbacks\n",
        "\n",
        "cwd = os.getcwd()\n",
        "\n",
        "exps_dir = os.path.join('/content/drive/My Drive/Keras/', 'classification_experiments')\n",
        "if not os.path.exists(exps_dir):\n",
        "    os.makedirs(exps_dir)\n",
        "\n",
        "now = datetime.now().strftime('%b%d_%H-%M-%S')\n",
        "\n",
        "model_name = 'First'\n",
        "\n",
        "exp_dir = os.path.join(exps_dir, model_name + '_' + str(now))\n",
        "if not os.path.exists(exp_dir):\n",
        "    os.makedirs(exp_dir)\n",
        "    \n",
        "callbacks = []\n",
        "\n",
        "#Model checkpoint\n",
        "ckpt_dir = os.path.join(exp_dir, 'ckpts')\n",
        "if not os.path.exists(ckpt_dir):\n",
        "    os.makedirs(ckpt_dir)\n",
        "\n",
        "ckpt_callback = tf.keras.callbacks.ModelCheckpoint(filepath=os.path.join(ckpt_dir, 'cp_{epoch:02d}.ckpt'), \n",
        "                                                   save_best_only=True, \n",
        "                                                   save_freq = 142,\n",
        "                                                   save_weights_only=True)  # False to save the model directly\n",
        "callbacks.append(ckpt_callback)\n",
        "\n",
        "# Early Stopping\n",
        "early_stop = True\n",
        "if early_stop:\n",
        "    es_callback = tf.keras.callbacks.EarlyStopping(monitor='val_loss', patience=6,restore_best_weights = True )\n",
        "    callbacks.append(es_callback)"
      ],
      "execution_count": null,
      "outputs": []
    },
    {
      "cell_type": "code",
      "metadata": {
        "id": "fUQCxJ0oMBcb"
      },
      "source": [
        "#Model fit\n",
        "model.fit(x=train_dataset,\n",
        "          epochs=30,  #### set repeat in training dataset\n",
        "          steps_per_epoch=len(train_gen),\n",
        "          validation_data=valid_dataset,\n",
        "          validation_steps=len(validation_gen),\n",
        "          callbacks=callbacks)\n"
      ],
      "execution_count": null,
      "outputs": []
    },
    {
      "cell_type": "code",
      "metadata": {
        "id": "aDUS_ZIPB-Yr"
      },
      "source": [
        "#Make prediction on test data and export it as csv file\n",
        "\n",
        "#Create_csv function definition\n",
        "def create_csv(results, results_dir='./'):\n",
        "\n",
        "    csv_fname = 'results_'\n",
        "    csv_fname += datetime.now().strftime('%b%d_%H-%M-%S') + '.csv'\n",
        "\n",
        "    with open(os.path.join(results_dir, csv_fname), 'w') as f:\n",
        "\n",
        "        f.write('Id,Category\\n')\n",
        "\n",
        "        for key, value in results.items():\n",
        "            f.write(key + ',' + str(value) + '\\n')\n",
        "\n",
        "#import test data\n",
        "test_dir = os.path.join(dataset_dir, 'test')\n",
        "\n",
        "images = [f for f in listdir(test_dir)]\n",
        "images = pd.DataFrame(images)\n",
        "images.rename(columns = {0:'filename'}, inplace = True)\n",
        "images[\"class\"] = 'test'\n",
        "\n",
        "test_gen = train_data_gen.flow_from_dataframe(images,\n",
        "                                               test_dir,\n",
        "                                               batch_size=BS,\n",
        "                                               target_size=(IMG_H, IMG_W),\n",
        "                                               class_mode='categorical',\n",
        "                                               shuffle=False,\n",
        "                                               seed=SEED)\n",
        "\n",
        "\n",
        "test_gen.reset()\n",
        "\n",
        "#create predictions\n",
        "predictions = model.predict_generator(test_gen, len(test_gen), verbose=1)\n",
        "\n",
        "results = {}\n",
        "images = test_gen.filenames\n",
        "i = 0\n",
        "\n",
        "for p in predictions:\n",
        "  prediction = np.argmax(p)\n",
        "  import ntpath\n",
        "  image_name = ntpath.basename(images[i])\n",
        "  results[image_name] = str(prediction)\n",
        "  i = i + 1\n",
        "\n",
        "\n",
        "\n"
      ],
      "execution_count": null,
      "outputs": []
    },
    {
      "cell_type": "code",
      "metadata": {
        "id": "j7JH-YeiERLh"
      },
      "source": [
        "create_csv(results, '/content/drive/My Drive')"
      ],
      "execution_count": null,
      "outputs": []
    }
  ]
}