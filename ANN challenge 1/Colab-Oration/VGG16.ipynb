{
 "cells": [
  {
   "cell_type": "markdown",
   "metadata": {
    "id": "D5V2e2hiG9pO"
   },
   "source": [
    "Model with transfer learning using the VGG-16 architecture, data preprocessing with data augmentation and classifier with 2 Dense hidden layers with Dropout.\n",
    "Fit of the model implemented with early stopping.\n"
   ]
  },
  {
   "cell_type": "code",
   "execution_count": null,
   "metadata": {
    "id": "2HMoT5n0RuYk"
   },
   "outputs": [],
   "source": [
    "#Imports\n",
    "import json \n",
    "import tensorflow as tf\n",
    "import numpy as np\n",
    "import os\n",
    "import pandas as pd\n",
    "from datetime import datetime\n",
    "from os import listdir\n",
    "from tensorflow.keras.preprocessing.image import ImageDataGenerator\n",
    "\n",
    "#Set seed to ensure experiment replication\n",
    "SEED = 1234\n",
    "tf.random.set_seed(SEED)\n",
    "\n",
    "# Get current working directory\n",
    "cwd = os.getcwd()\n"
   ]
  },
  {
   "cell_type": "code",
   "execution_count": null,
   "metadata": {
    "id": "CFhu1fS6dLA4"
   },
   "outputs": [],
   "source": [
    "from IPython.core.interactiveshell import InteractiveShell\n",
    "InteractiveShell.ast_node_interactivity = \"all\""
   ]
  },
  {
   "cell_type": "code",
   "execution_count": null,
   "metadata": {
    "id": "wjaGMBnzTFot"
   },
   "outputs": [],
   "source": [
    "#Connect to Drive to fetch data\n",
    "from google.colab import drive\n",
    "drive.mount('/content/drive') \n"
   ]
  },
  {
   "cell_type": "code",
   "execution_count": null,
   "metadata": {
    "id": "P8G9rBNwk0vu"
   },
   "outputs": [],
   "source": [
    "#unzip the data\n",
    "!unzip '/content/drive/My Drive/artificial-neural-networks-and-deep-learning-2020.zip'"
   ]
  },
  {
   "cell_type": "code",
   "execution_count": null,
   "metadata": {
    "colab": {
     "base_uri": "https://localhost:8080/"
    },
    "id": "96v4kToeU_Q0",
    "outputId": "b5d77660-3224-4264-a4fa-655028b09653"
   },
   "outputs": [
    {
     "name": "stdout",
     "output_type": "stream",
     "text": [
      "Found 4492 validated image filenames belonging to 3 classes.\n",
      "Found 1122 validated image filenames belonging to 3 classes.\n"
     ]
    }
   ],
   "source": [
    "#Create Data Generators\n",
    "#Training data augmentation to training data Toggle\n",
    "\n",
    "apply_data_augmentation = True\n",
    "\n",
    "# Create training ImageDataGenerator object\n",
    "if apply_data_augmentation:\n",
    "    train_data_gen = ImageDataGenerator(shear_range=0.2,\n",
    "                                        width_shift_range=0.15,\n",
    "                                        height_shift_range=0.15,\n",
    "                                        zoom_range=0.3,\n",
    "                                        horizontal_flip=True,\n",
    "                                        validation_split=0.2,\n",
    "                                        fill_mode='constant',\n",
    "                                        cval=0,\n",
    "                                        rescale=1./255)\n",
    "else:\n",
    "    train_data_gen = ImageDataGenerator(rescale=1./255,\n",
    "                                        validation_split=0.2)\n",
    "\n",
    "# Create validation and test ImageDataGenerator objects\n",
    "valid_data_gen = ImageDataGenerator(rescale=1./255)\n",
    "test_data_gen = ImageDataGenerator(rescale=1./255)\n",
    "\n",
    "\n",
    "\n",
    "\n",
    "dataset_dir = os.path.join(cwd, \"MaskDataset\")\n",
    "training_dir= os.path.join(dataset_dir,\"training\")\n",
    "\n",
    "#Batch size\n",
    "BS = 8\n",
    "\n",
    "#Image shape\n",
    "IMG_H = 407 \n",
    "IMG_W = 407\n",
    "\n",
    "num_classes=3\n",
    "\n",
    "\n",
    "with open(os.path.join(dataset_dir,\"train_gt.json\")) as f:\n",
    "  dic=json.load(f)\n",
    "  dataframe= pd.DataFrame(dic.items())\n",
    "  dataframe.rename(columns={0:'filename', 1:'class'}, inplace=True )\n",
    "  dataframe=dataframe.sample(frac=1, random_state=SEED)\n",
    "  dataframe[\"class\"]=dataframe[\"class\"].astype('string')\n",
    "  train_gen = train_data_gen.flow_from_dataframe(dataframe,\n",
    "                                                 training_dir,\n",
    "                                                 batch_size=BS,\n",
    "                                                 target_size=(IMG_H, IMG_W),\n",
    "                                                 class_mode='categorical',\n",
    "                                                 shuffle= True,\n",
    "                                                 seed=SEED,\n",
    "                                                subset='training',\n",
    "                                                image_size=(407,407))\n",
    "  \n",
    "  validation_gen = train_data_gen.flow_from_dataframe(dataframe,\n",
    "                                                 training_dir,\n",
    "                                                 batch_size=BS,\n",
    "                                                 target_size=(IMG_H, IMG_W),\n",
    "                                                 class_mode='categorical',\n",
    "                                                 shuffle= True,\n",
    "                                                 seed=SEED,\n",
    "                                                 subset='validation',\n",
    "                                                image_size=(407,407))\n",
    "  \n",
    "\n",
    "\n"
   ]
  },
  {
   "cell_type": "code",
   "execution_count": null,
   "metadata": {
    "id": "AOnHlXKSTXVt"
   },
   "outputs": [],
   "source": [
    "#create Dataset Object\n",
    "\n",
    "#Training\n",
    "train_dataset = tf.data.Dataset.from_generator(lambda: train_gen,\n",
    "                                               output_types=(tf.float32, tf.float32),\n",
    "                                               output_shapes=([None, IMG_H, IMG_W, 3], [None, num_classes]))\n",
    "\n",
    "train_dataset = train_dataset.repeat()\n",
    "\n",
    "#Validation\n",
    "valid_dataset = tf.data.Dataset.from_generator(lambda: validation_gen, \n",
    "                                               output_types=(tf.float32, tf.float32),\n",
    "                                               output_shapes=([None, IMG_H, IMG_W, 3], [None, num_classes]))\n",
    "\n",
    "valid_dataset = valid_dataset.repeat()\n"
   ]
  },
  {
   "cell_type": "code",
   "execution_count": null,
   "metadata": {
    "colab": {
     "base_uri": "https://localhost:8080/"
    },
    "id": "SYrUS32NZyqb",
    "outputId": "59b80404-da7d-4665-9ba4-a304fda65803"
   },
   "outputs": [
    {
     "name": "stdout",
     "output_type": "stream",
     "text": [
      "Downloading data from https://storage.googleapis.com/tensorflow/keras-applications/vgg16/vgg16_weights_tf_dim_ordering_tf_kernels_notop.h5\n",
      "58892288/58889256 [==============================] - 0s 0us/step\n",
      "Model: \"vgg16\"\n",
      "_________________________________________________________________\n",
      "Layer (type)                 Output Shape              Param #   \n",
      "=================================================================\n",
      "input_1 (InputLayer)         [(None, 407, 407, 3)]     0         \n",
      "_________________________________________________________________\n",
      "block1_conv1 (Conv2D)        (None, 407, 407, 64)      1792      \n",
      "_________________________________________________________________\n",
      "block1_conv2 (Conv2D)        (None, 407, 407, 64)      36928     \n",
      "_________________________________________________________________\n",
      "block1_pool (MaxPooling2D)   (None, 203, 203, 64)      0         \n",
      "_________________________________________________________________\n",
      "block2_conv1 (Conv2D)        (None, 203, 203, 128)     73856     \n",
      "_________________________________________________________________\n",
      "block2_conv2 (Conv2D)        (None, 203, 203, 128)     147584    \n",
      "_________________________________________________________________\n",
      "block2_pool (MaxPooling2D)   (None, 101, 101, 128)     0         \n",
      "_________________________________________________________________\n",
      "block3_conv1 (Conv2D)        (None, 101, 101, 256)     295168    \n",
      "_________________________________________________________________\n",
      "block3_conv2 (Conv2D)        (None, 101, 101, 256)     590080    \n",
      "_________________________________________________________________\n",
      "block3_conv3 (Conv2D)        (None, 101, 101, 256)     590080    \n",
      "_________________________________________________________________\n",
      "block3_pool (MaxPooling2D)   (None, 50, 50, 256)       0         \n",
      "_________________________________________________________________\n",
      "block4_conv1 (Conv2D)        (None, 50, 50, 512)       1180160   \n",
      "_________________________________________________________________\n",
      "block4_conv2 (Conv2D)        (None, 50, 50, 512)       2359808   \n",
      "_________________________________________________________________\n",
      "block4_conv3 (Conv2D)        (None, 50, 50, 512)       2359808   \n",
      "_________________________________________________________________\n",
      "block4_pool (MaxPooling2D)   (None, 25, 25, 512)       0         \n",
      "_________________________________________________________________\n",
      "block5_conv1 (Conv2D)        (None, 25, 25, 512)       2359808   \n",
      "_________________________________________________________________\n",
      "block5_conv2 (Conv2D)        (None, 25, 25, 512)       2359808   \n",
      "_________________________________________________________________\n",
      "block5_conv3 (Conv2D)        (None, 25, 25, 512)       2359808   \n",
      "_________________________________________________________________\n",
      "block5_pool (MaxPooling2D)   (None, 12, 12, 512)       0         \n",
      "=================================================================\n",
      "Total params: 14,714,688\n",
      "Trainable params: 14,714,688\n",
      "Non-trainable params: 0\n",
      "_________________________________________________________________\n"
     ]
    }
   ],
   "source": [
    "#VGG model\n",
    "vgg = tf.keras.applications.VGG16(weights='imagenet', include_top=False, input_shape=(IMG_H, IMG_W, 3))\n",
    "vgg.summary()"
   ]
  },
  {
   "cell_type": "code",
   "execution_count": null,
   "metadata": {
    "id": "yp4WYQ2zUUla"
   },
   "outputs": [],
   "source": [
    "# Architecture: VGG -> Classifier\n",
    "\n",
    "#Finetuning model\n",
    "finetuning = True\n",
    "\n",
    "if finetuning:\n",
    "    freeze_until = 15 # layer from which we want to fine-tune\n",
    "    \n",
    "    for layer in vgg.layers[:freeze_until]:\n",
    "        layer.trainable = False\n",
    "else:\n",
    "    vgg.trainable = False\n",
    "\n",
    "#Create model\n",
    "model = tf.keras.Sequential() #we implement this in a sequential way \n",
    "model.add(vgg)\n",
    "\n",
    "# Classifier\n",
    "model.add(tf.keras.layers.Flatten())\n",
    "model.add(tf.keras.layers.Dense(units=256, activation='relu'))\n",
    "model.add(tf.keras.layers.Dropout(0.1,seed=SEED))\n",
    "model.add(tf.keras.layers.Dense(units=128, activation='relu'))\n",
    "model.add(tf.keras.layers.Dropout(0.2,seed=SEED))\n",
    "model.add(tf.keras.layers.Dense(units=num_classes, activation='softmax'))"
   ]
  },
  {
   "cell_type": "code",
   "execution_count": null,
   "metadata": {
    "colab": {
     "base_uri": "https://localhost:8080/"
    },
    "id": "C3E7U71nKBMs",
    "outputId": "e9fff713-243c-4735-cb89-c2145be5b0e3"
   },
   "outputs": [
    {
     "name": "stdout",
     "output_type": "stream",
     "text": [
      "Model: \"sequential\"\n",
      "_________________________________________________________________\n",
      "Layer (type)                 Output Shape              Param #   \n",
      "=================================================================\n",
      "vgg16 (Functional)           (None, 12, 12, 512)       14714688  \n",
      "_________________________________________________________________\n",
      "flatten (Flatten)            (None, 73728)             0         \n",
      "_________________________________________________________________\n",
      "dense (Dense)                (None, 256)               18874624  \n",
      "_________________________________________________________________\n",
      "dropout (Dropout)            (None, 256)               0         \n",
      "_________________________________________________________________\n",
      "dense_1 (Dense)              (None, 128)               32896     \n",
      "_________________________________________________________________\n",
      "dropout_1 (Dropout)          (None, 128)               0         \n",
      "_________________________________________________________________\n",
      "dense_2 (Dense)              (None, 3)                 387       \n",
      "=================================================================\n",
      "Total params: 33,622,595\n",
      "Trainable params: 25,987,331\n",
      "Non-trainable params: 7,635,264\n",
      "_________________________________________________________________\n"
     ]
    }
   ],
   "source": [
    "# Visualize created model as a table\n",
    "model.summary()\n",
    "\n",
    "# Visualize initialized weights\n",
    "#model.weights"
   ]
  },
  {
   "cell_type": "code",
   "execution_count": null,
   "metadata": {
    "id": "CSjGk6adKtl3"
   },
   "outputs": [],
   "source": [
    "#Optimization parameters:\n",
    "\n",
    "# Loss\n",
    "loss = tf.keras.losses.CategoricalCrossentropy()\n",
    "\n",
    "# learning rate\n",
    "lr = 1e-4\n",
    "optimizer = tf.keras.optimizers.Adam(learning_rate=lr)\n",
    "\n",
    "# Validation metrics\n",
    "metrics = ['accuracy']\n",
    "# ------------------\n",
    "\n",
    "# Compile Model\n",
    "model.compile(optimizer=optimizer, loss=loss, metrics=metrics)"
   ]
  },
  {
   "cell_type": "code",
   "execution_count": null,
   "metadata": {
    "id": "2ibeQWAKNVzc"
   },
   "outputs": [],
   "source": [
    "#create Callbacks\n",
    "\n",
    "cwd = os.getcwd()\n",
    "\n",
    "exps_dir = os.path.join('/content/drive/My Drive/Keras/', 'classification_experiments')\n",
    "if not os.path.exists(exps_dir):\n",
    "    os.makedirs(exps_dir)\n",
    "\n",
    "now = datetime.now().strftime('%b%d_%H-%M-%S')\n",
    "\n",
    "model_name = 'First'\n",
    "\n",
    "exp_dir = os.path.join(exps_dir, model_name + '_' + str(now))\n",
    "if not os.path.exists(exp_dir):\n",
    "    os.makedirs(exp_dir)\n",
    "    \n",
    "callbacks = []\n",
    "\n",
    "# Model checkpoint\n",
    "ckpt_dir = os.path.join(exp_dir, 'ckpts')\n",
    "if not os.path.exists(ckpt_dir):\n",
    "    os.makedirs(ckpt_dir)\n",
    "\n",
    "ckpt_callback = tf.keras.callbacks.ModelCheckpoint(filepath=os.path.join(ckpt_dir, 'cp_{epoch:02d}.ckpt'), \n",
    "                                                   save_weights_only=True)  # False to save the model directly\n",
    "callbacks.append(ckpt_callback)\n",
    "\n",
    "\n",
    "#Implementation of Early Stopping\n",
    "early_stop = True\n",
    "if early_stop:\n",
    "    es_callback = tf.keras.callbacks.EarlyStopping(monitor='val_loss', patience=10,restore_best_weights = True )\n",
    "    callbacks.append(es_callback)"
   ]
  },
  {
   "cell_type": "code",
   "execution_count": null,
   "metadata": {
    "colab": {
     "base_uri": "https://localhost:8080/"
    },
    "id": "fUQCxJ0oMBcb",
    "outputId": "600de9a9-d1a7-42a4-aba7-7b0eed53de5f"
   },
   "outputs": [
    {
     "name": "stdout",
     "output_type": "stream",
     "text": [
      "Epoch 1/40\n",
      "562/562 [==============================] - 297s 529ms/step - loss: 0.8436 - accuracy: 0.5717 - val_loss: 0.6597 - val_accuracy: 0.6488\n",
      "Epoch 2/40\n",
      "562/562 [==============================] - 296s 526ms/step - loss: 0.5012 - accuracy: 0.7745 - val_loss: 0.4354 - val_accuracy: 0.8102\n",
      "Epoch 3/40\n",
      "562/562 [==============================] - 299s 533ms/step - loss: 0.4355 - accuracy: 0.8139 - val_loss: 0.3672 - val_accuracy: 0.8449\n",
      "Epoch 4/40\n",
      "562/562 [==============================] - 311s 554ms/step - loss: 0.3771 - accuracy: 0.8459 - val_loss: 0.4658 - val_accuracy: 0.8048\n",
      "Epoch 5/40\n",
      "562/562 [==============================] - 313s 558ms/step - loss: 0.3361 - accuracy: 0.8629 - val_loss: 0.3141 - val_accuracy: 0.8743\n",
      "Epoch 6/40\n",
      "562/562 [==============================] - 313s 558ms/step - loss: 0.3110 - accuracy: 0.8753 - val_loss: 0.3520 - val_accuracy: 0.8494\n",
      "Epoch 7/40\n",
      "562/562 [==============================] - 313s 557ms/step - loss: 0.2630 - accuracy: 0.9036 - val_loss: 0.3172 - val_accuracy: 0.8824\n",
      "Epoch 8/40\n",
      "562/562 [==============================] - 316s 562ms/step - loss: 0.2534 - accuracy: 0.9061 - val_loss: 0.3083 - val_accuracy: 0.8752\n",
      "Epoch 9/40\n",
      "562/562 [==============================] - 315s 561ms/step - loss: 0.2243 - accuracy: 0.9127 - val_loss: 0.3522 - val_accuracy: 0.8601\n",
      "Epoch 10/40\n",
      "562/562 [==============================] - 317s 563ms/step - loss: 0.2175 - accuracy: 0.9201 - val_loss: 0.2990 - val_accuracy: 0.8904\n",
      "Epoch 11/40\n",
      "562/562 [==============================] - 318s 566ms/step - loss: 0.1948 - accuracy: 0.9294 - val_loss: 0.3838 - val_accuracy: 0.8708\n",
      "Epoch 12/40\n",
      "562/562 [==============================] - 311s 553ms/step - loss: 0.1768 - accuracy: 0.9377 - val_loss: 0.3065 - val_accuracy: 0.8904\n",
      "Epoch 13/40\n",
      "562/562 [==============================] - 302s 537ms/step - loss: 0.1723 - accuracy: 0.9366 - val_loss: 0.2904 - val_accuracy: 0.8984\n",
      "Epoch 14/40\n",
      "562/562 [==============================] - 300s 534ms/step - loss: 0.1577 - accuracy: 0.9421 - val_loss: 0.4220 - val_accuracy: 0.8547\n",
      "Epoch 15/40\n",
      "562/562 [==============================] - 298s 531ms/step - loss: 0.1477 - accuracy: 0.9450 - val_loss: 0.3481 - val_accuracy: 0.8922\n",
      "Epoch 16/40\n",
      "562/562 [==============================] - 297s 529ms/step - loss: 0.1410 - accuracy: 0.9495 - val_loss: 0.3470 - val_accuracy: 0.8922\n",
      "Epoch 17/40\n",
      "562/562 [==============================] - 296s 527ms/step - loss: 0.1253 - accuracy: 0.9570 - val_loss: 0.4143 - val_accuracy: 0.8752\n",
      "Epoch 18/40\n",
      "562/562 [==============================] - 296s 527ms/step - loss: 0.1252 - accuracy: 0.9550 - val_loss: 0.3872 - val_accuracy: 0.8761\n",
      "Epoch 19/40\n",
      "562/562 [==============================] - 297s 529ms/step - loss: 0.1181 - accuracy: 0.9613 - val_loss: 0.3370 - val_accuracy: 0.8886\n",
      "Epoch 20/40\n",
      "562/562 [==============================] - 297s 529ms/step - loss: 0.1203 - accuracy: 0.9586 - val_loss: 0.3390 - val_accuracy: 0.8975\n",
      "Epoch 21/40\n",
      "562/562 [==============================] - 299s 532ms/step - loss: 0.1129 - accuracy: 0.9615 - val_loss: 0.3610 - val_accuracy: 0.8868\n",
      "Epoch 22/40\n",
      "562/562 [==============================] - 298s 530ms/step - loss: 0.1075 - accuracy: 0.9642 - val_loss: 0.3414 - val_accuracy: 0.8859\n",
      "Epoch 23/40\n",
      "562/562 [==============================] - 299s 532ms/step - loss: 0.1086 - accuracy: 0.9648 - val_loss: 0.4545 - val_accuracy: 0.8824\n"
     ]
    },
    {
     "data": {
      "text/plain": [
       "<tensorflow.python.keras.callbacks.History at 0x7ff3f02b0b38>"
      ]
     },
     "execution_count": 12,
     "metadata": {
      "tags": []
     },
     "output_type": "execute_result"
    }
   ],
   "source": [
    "model.fit(x=train_dataset,\n",
    "          epochs=40,  #### set repeat in training dataset\n",
    "          steps_per_epoch=len(train_gen),\n",
    "          validation_data=valid_dataset,\n",
    "          validation_steps=len(validation_gen),\n",
    "          callbacks=callbacks)\n"
   ]
  },
  {
   "cell_type": "code",
   "execution_count": null,
   "metadata": {
    "id": "aDUS_ZIPB-Yr"
   },
   "outputs": [],
   "source": [
    "#Make prediction on test data and export it as csv file\n",
    "\n",
    "#Create_csv function definition\n",
    "def create_csv(results, results_dir='./'):\n",
    "\n",
    "    csv_fname = 'results_'\n",
    "    csv_fname += datetime.now().strftime('%b%d_%H-%M-%S') + '.csv'\n",
    "\n",
    "    with open(os.path.join(results_dir, csv_fname), 'w') as f:\n",
    "\n",
    "        f.write('Id,Category\\n')\n",
    "\n",
    "        for key, value in results.items():\n",
    "            f.write(key + ',' + str(value) + '\\n')\n",
    "\n",
    "#import test data\n",
    "test_dir = os.path.join(dataset_dir, 'test')\n",
    "\n",
    "images = [f for f in listdir(test_dir)]\n",
    "images = pd.DataFrame(images)\n",
    "images.rename(columns = {0:'filename'}, inplace = True)\n",
    "images[\"class\"] = 'test'\n",
    "\n",
    "test_gen = train_data_gen.flow_from_dataframe(images,\n",
    "                                               test_dir,\n",
    "                                               batch_size=BS,\n",
    "                                               target_size=(IMG_H, IMG_W),\n",
    "                                               class_mode='categorical',\n",
    "                                               shuffle=False,\n",
    "                                               seed=SEED)\n",
    "\n",
    "\n",
    "test_gen.reset()\n",
    "\n",
    "#create predictions\n",
    "predictions = model.predict_generator(test_gen, len(test_gen), verbose=1)\n",
    "\n",
    "results = {}\n",
    "images = test_gen.filenames\n",
    "i = 0\n",
    "\n",
    "for p in predictions:\n",
    "  prediction = np.argmax(p)\n",
    "  import ntpath\n",
    "  image_name = ntpath.basename(images[i])\n",
    "  results[image_name] = str(prediction)\n",
    "  i = i + 1\n",
    "\n",
    "\n",
    "\n"
   ]
  },
  {
   "cell_type": "code",
   "execution_count": null,
   "metadata": {
    "id": "j7JH-YeiERLh"
   },
   "outputs": [],
   "source": [
    "create_csv(results, '/content/drive/My Drive')"
   ]
  }
 ],
 "metadata": {
  "accelerator": "GPU",
  "colab": {
   "collapsed_sections": [],
   "name": "VGG16.ipynb",
   "provenance": []
  },
  "kernelspec": {
   "display_name": "Python 3 (ipykernel)",
   "language": "python",
   "name": "python3"
  },
  "language_info": {
   "codemirror_mode": {
    "name": "ipython",
    "version": 3
   },
   "file_extension": ".py",
   "mimetype": "text/x-python",
   "name": "python",
   "nbconvert_exporter": "python",
   "pygments_lexer": "ipython3",
   "version": "3.8.8"
  }
 },
 "nbformat": 4,
 "nbformat_minor": 1
}
