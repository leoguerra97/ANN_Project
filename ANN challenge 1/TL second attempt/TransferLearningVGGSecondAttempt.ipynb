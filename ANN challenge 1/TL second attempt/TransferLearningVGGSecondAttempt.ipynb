{
  "nbformat": 4,
  "nbformat_minor": 0,
  "metadata": {
    "colab": {
      "name": "TransferLearningVGG.ipynb",
      "provenance": [],
      "collapsed_sections": []
    },
    "kernelspec": {
      "name": "python3",
      "display_name": "Python 3"
    },
    "accelerator": "GPU"
  },
  "cells": [
    {
      "cell_type": "code",
      "metadata": {
        "id": "2HMoT5n0RuYk"
      },
      "source": [
        "import json \n",
        "import tensorflow as tf\n",
        "import numpy as np\n",
        "import os\n",
        "import pandas as pd\n",
        "\n",
        "SEED = 1234\n",
        "tf.random.set_seed(SEED)\n",
        "\n",
        "# Get current working directory\n",
        "cwd = os.getcwd()\n"
      ],
      "execution_count": 1,
      "outputs": []
    },
    {
      "cell_type": "code",
      "metadata": {
        "id": "CFhu1fS6dLA4"
      },
      "source": [
        "from IPython.core.interactiveshell import InteractiveShell\n",
        "InteractiveShell.ast_node_interactivity = \"all\""
      ],
      "execution_count": 2,
      "outputs": []
    },
    {
      "cell_type": "code",
      "metadata": {
        "id": "wjaGMBnzTFot",
        "outputId": "f1305dbe-f315-4820-d612-7eda2bfadecc",
        "colab": {
          "base_uri": "https://localhost:8080/"
        }
      },
      "source": [
        "#Data\n",
        "from google.colab import drive\n",
        "drive.mount('/content/drive') \n"
      ],
      "execution_count": 3,
      "outputs": [
        {
          "output_type": "stream",
          "text": [
            "Drive already mounted at /content/drive; to attempt to forcibly remount, call drive.mount(\"/content/drive\", force_remount=True).\n"
          ],
          "name": "stdout"
        }
      ]
    },
    {
      "cell_type": "code",
      "metadata": {
        "id": "P8G9rBNwk0vu"
      },
      "source": [
        "!unzip '/content/drive/My Drive/artificial-neural-networks-and-deep-learning-2020.zip'"
      ],
      "execution_count": null,
      "outputs": []
    },
    {
      "cell_type": "code",
      "metadata": {
        "id": "96v4kToeU_Q0",
        "outputId": "85d80924-1a58-4655-e443-d85e48359b26",
        "colab": {
          "base_uri": "https://localhost:8080/"
        }
      },
      "source": [
        "#datagenerator\n",
        "from tensorflow.keras.preprocessing.image import ImageDataGenerator\n",
        "\n",
        "\n",
        "apply_data_augmentation = False\n",
        "\n",
        "# Create training ImageDataGenerator object\n",
        "\n",
        "if apply_data_augmentation:\n",
        "    train_data_gen = ImageDataGenerator(rotation_range=10,\n",
        "                                        width_shift_range=10,\n",
        "                                        height_shift_range=10,\n",
        "                                        zoom_range=0.3,\n",
        "                                        horizontal_flip=True,\n",
        "                                        vertical_flip=True,\n",
        "                                        validation_split=0.2,\n",
        "                                        fill_mode='constant',\n",
        "                                        cval=0,\n",
        "                                        rescale=1./255)\n",
        "else:\n",
        "    train_data_gen = ImageDataGenerator(rescale=1./255,\n",
        "                                        validation_split=0.2)\n",
        "\n",
        "# Create validation and test ImageDataGenerator objects\n",
        "valid_data_gen = ImageDataGenerator(rescale=1./255)\n",
        "test_data_gen = ImageDataGenerator(rescale=1./255)\n",
        "\n",
        "\n",
        "\n",
        "\n",
        "dataset_dir = os.path.join(cwd, \"MaskDataset\")\n",
        "training_dir= os.path.join(dataset_dir,\"training\")\n",
        "\n",
        "#Batch size\n",
        "BS = 8\n",
        "\n",
        "#Image shape\n",
        "IMG_H = 407 #612\n",
        "IMG_W = 407\n",
        "\n",
        "num_classes=3\n",
        "\n",
        "\n",
        "with open(os.path.join(dataset_dir,\"train_gt.json\")) as f:\n",
        "  dic=json.load(f)\n",
        "  dataframe= pd.DataFrame(dic.items())\n",
        "  dataframe.rename(columns={0:'filename', 1:'class'}, inplace=True )\n",
        "  dataframe=dataframe.sample(frac=1, random_state=SEED)\n",
        "  dataframe[\"class\"]=dataframe[\"class\"].astype('string')\n",
        "  train_gen = train_data_gen.flow_from_dataframe(dataframe,\n",
        "                                                 training_dir,\n",
        "                                                 batch_size=BS,\n",
        "                                                 target_size=(IMG_H, IMG_W),\n",
        "                                                 class_mode='categorical',\n",
        "                                                 shuffle= True,\n",
        "                                                 seed=SEED,\n",
        "                                                subset='training',\n",
        "                                                image_size=(407,407))\n",
        "  \n",
        "  validation_gen = train_data_gen.flow_from_dataframe(dataframe,\n",
        "                                                 training_dir,\n",
        "                                                 batch_size=BS,\n",
        "                                                 target_size=(IMG_H, IMG_W),\n",
        "                                                 class_mode='categorical',\n",
        "                                                 shuffle= True,\n",
        "                                                 seed=SEED,\n",
        "                                                 subset='validation',\n",
        "                                                image_size=(407,407))\n",
        "  \n",
        "\n",
        "\n"
      ],
      "execution_count": 5,
      "outputs": [
        {
          "output_type": "stream",
          "text": [
            "Found 4492 validated image filenames belonging to 3 classes.\n",
            "Found 1122 validated image filenames belonging to 3 classes.\n"
          ],
          "name": "stdout"
        }
      ]
    },
    {
      "cell_type": "code",
      "metadata": {
        "id": "AOnHlXKSTXVt"
      },
      "source": [
        "#create Dataset Object\n",
        "\n",
        "#Training\n",
        "\n",
        "\n",
        "train_dataset = tf.data.Dataset.from_generator(lambda: train_gen,\n",
        "                                               output_types=(tf.float32, tf.float32),\n",
        "                                               output_shapes=([None, IMG_H, IMG_W, 3], [None, num_classes]))\n",
        "\n",
        "\n",
        "train_dataset = train_dataset.repeat()\n",
        "\n",
        "#Validation\n",
        "\n",
        "valid_dataset = tf.data.Dataset.from_generator(lambda: validation_gen, \n",
        "                                               output_types=(tf.float32, tf.float32),\n",
        "                                               output_shapes=([None, IMG_H, IMG_W, 3], [None, num_classes]))\n",
        "\n",
        "# Repeat\n",
        "valid_dataset = valid_dataset.repeat()\n"
      ],
      "execution_count": 6,
      "outputs": []
    },
    {
      "cell_type": "code",
      "metadata": {
        "id": "SYrUS32NZyqb",
        "outputId": "bc8573a3-8cb6-40ab-b642-3d9956bd38fb",
        "colab": {
          "base_uri": "https://localhost:8080/"
        }
      },
      "source": [
        "#VGG model\n",
        "vgg = tf.keras.applications.VGG16(weights='imagenet', include_top=False, input_shape=(IMG_H, IMG_W, 3))\n",
        "vgg.summary()"
      ],
      "execution_count": 7,
      "outputs": [
        {
          "output_type": "stream",
          "text": [
            "Model: \"vgg16\"\n",
            "_________________________________________________________________\n",
            "Layer (type)                 Output Shape              Param #   \n",
            "=================================================================\n",
            "input_1 (InputLayer)         [(None, 407, 407, 3)]     0         \n",
            "_________________________________________________________________\n",
            "block1_conv1 (Conv2D)        (None, 407, 407, 64)      1792      \n",
            "_________________________________________________________________\n",
            "block1_conv2 (Conv2D)        (None, 407, 407, 64)      36928     \n",
            "_________________________________________________________________\n",
            "block1_pool (MaxPooling2D)   (None, 203, 203, 64)      0         \n",
            "_________________________________________________________________\n",
            "block2_conv1 (Conv2D)        (None, 203, 203, 128)     73856     \n",
            "_________________________________________________________________\n",
            "block2_conv2 (Conv2D)        (None, 203, 203, 128)     147584    \n",
            "_________________________________________________________________\n",
            "block2_pool (MaxPooling2D)   (None, 101, 101, 128)     0         \n",
            "_________________________________________________________________\n",
            "block3_conv1 (Conv2D)        (None, 101, 101, 256)     295168    \n",
            "_________________________________________________________________\n",
            "block3_conv2 (Conv2D)        (None, 101, 101, 256)     590080    \n",
            "_________________________________________________________________\n",
            "block3_conv3 (Conv2D)        (None, 101, 101, 256)     590080    \n",
            "_________________________________________________________________\n",
            "block3_pool (MaxPooling2D)   (None, 50, 50, 256)       0         \n",
            "_________________________________________________________________\n",
            "block4_conv1 (Conv2D)        (None, 50, 50, 512)       1180160   \n",
            "_________________________________________________________________\n",
            "block4_conv2 (Conv2D)        (None, 50, 50, 512)       2359808   \n",
            "_________________________________________________________________\n",
            "block4_conv3 (Conv2D)        (None, 50, 50, 512)       2359808   \n",
            "_________________________________________________________________\n",
            "block4_pool (MaxPooling2D)   (None, 25, 25, 512)       0         \n",
            "_________________________________________________________________\n",
            "block5_conv1 (Conv2D)        (None, 25, 25, 512)       2359808   \n",
            "_________________________________________________________________\n",
            "block5_conv2 (Conv2D)        (None, 25, 25, 512)       2359808   \n",
            "_________________________________________________________________\n",
            "block5_conv3 (Conv2D)        (None, 25, 25, 512)       2359808   \n",
            "_________________________________________________________________\n",
            "block5_pool (MaxPooling2D)   (None, 12, 12, 512)       0         \n",
            "=================================================================\n",
            "Total params: 14,714,688\n",
            "Trainable params: 14,714,688\n",
            "Non-trainable params: 0\n",
            "_________________________________________________________________\n"
          ],
          "name": "stdout"
        }
      ]
    },
    {
      "cell_type": "code",
      "metadata": {
        "id": "yp4WYQ2zUUla"
      },
      "source": [
        "# Architecture: VGG -> Classifier\n",
        "\n",
        "#Finetuning\n",
        "finetuning = True\n",
        "\n",
        "if finetuning:\n",
        "    freeze_until = 15 # layer from which we want to fine-tune\n",
        "    \n",
        "    for layer in vgg.layers[:freeze_until]:\n",
        "        layer.trainable = False\n",
        "else:\n",
        "    vgg.trainable = False\n",
        "\n",
        "#Create model\n",
        "model = tf.keras.Sequential() #we implement this in a sequential way \n",
        "model.add(vgg)\n",
        "\n",
        "# Classifier\n",
        "#I vectorize the volume and apply classifier \n",
        "model.add(tf.keras.layers.Flatten())\n",
        "model.add(tf.keras.layers.Dense(units=512, activation='relu'))\n",
        "model.add(tf.keras.layers.Dropout(0.2))\n",
        "model.add(tf.keras.layers.Dense(units=128, activation='relu'))\n",
        "model.add(tf.keras.layers.Dropout(0.2))\n",
        "model.add(tf.keras.layers.Dense(units=num_classes, activation='softmax'))"
      ],
      "execution_count": 8,
      "outputs": []
    },
    {
      "cell_type": "code",
      "metadata": {
        "id": "C3E7U71nKBMs"
      },
      "source": [
        "# Visualize created model as a table\n",
        "model.summary()\n",
        "\n",
        "# Visualize initialized weights\n",
        "model.weights"
      ],
      "execution_count": null,
      "outputs": []
    },
    {
      "cell_type": "code",
      "metadata": {
        "id": "CSjGk6adKtl3"
      },
      "source": [
        "# Optimization params\n",
        "\n",
        "\n",
        "# Loss\n",
        "loss = tf.keras.losses.CategoricalCrossentropy()\n",
        "\n",
        "# learning rate\n",
        "lr = 1e-5\n",
        "optimizer = tf.keras.optimizers.Adam(learning_rate=lr)\n",
        "# -------------------\n",
        "\n",
        "# Validation metrics\n",
        "\n",
        "\n",
        "metrics = ['accuracy']\n",
        "# ------------------\n",
        "\n",
        "# Compile Model\n",
        "model.compile(optimizer=optimizer, loss=loss, metrics=metrics)"
      ],
      "execution_count": 10,
      "outputs": []
    },
    {
      "cell_type": "code",
      "metadata": {
        "id": "2ibeQWAKNVzc"
      },
      "source": [
        "import os\n",
        "from datetime import datetime\n",
        "\n",
        "\n",
        "cwd = os.getcwd()\n",
        "\n",
        "exps_dir = os.path.join('/content/drive/My Drive/Keras/', 'classification_experiments')\n",
        "if not os.path.exists(exps_dir):\n",
        "    os.makedirs(exps_dir)\n",
        "\n",
        "now = datetime.now().strftime('%b%d_%H-%M-%S')\n",
        "\n",
        "model_name = 'First'\n",
        "\n",
        "exp_dir = os.path.join(exps_dir, model_name + '_' + str(now))\n",
        "if not os.path.exists(exp_dir):\n",
        "    os.makedirs(exp_dir)\n",
        "    \n",
        "callbacks = []\n",
        "\n",
        "# Model checkpoint\n",
        "# ----------------\n",
        "ckpt_dir = os.path.join(exp_dir, 'ckpts')\n",
        "if not os.path.exists(ckpt_dir):\n",
        "    os.makedirs(ckpt_dir)\n",
        "\n",
        "ckpt_callback = tf.keras.callbacks.ModelCheckpoint(filepath=os.path.join(ckpt_dir, 'cp_{epoch:02d}.ckpt'), \n",
        "                                                   save_weights_only=True)  # False to save the model directly\n",
        "callbacks.append(ckpt_callback)\n",
        "\n",
        "# Visualize Learning on Tensorboard\n",
        "# ---------------------------------\n",
        "tb_dir = os.path.join(exp_dir, 'tb_logs')\n",
        "if not os.path.exists(tb_dir):\n",
        "    os.makedirs(tb_dir)\n",
        "    \n",
        "# By default shows losses and metrics for both training and validation\n",
        "tb_callback = tf.keras.callbacks.TensorBoard(log_dir=tb_dir,\n",
        "                                             profile_batch=0,\n",
        "                                             histogram_freq=1)  # if 1 shows weights histograms\n",
        "callbacks.append(tb_callback)\n",
        "\n",
        "# Early Stopping\n",
        "# --------------\n",
        "early_stop = True\n",
        "if early_stop:\n",
        "    es_callback = tf.keras.callbacks.EarlyStopping(monitor='val_loss', patience=5)\n",
        "    callbacks.append(es_callback)"
      ],
      "execution_count": 11,
      "outputs": []
    },
    {
      "cell_type": "code",
      "metadata": {
        "id": "fUQCxJ0oMBcb",
        "outputId": "f3129fb9-1f5b-473f-a633-9986be3b7b85",
        "colab": {
          "base_uri": "https://localhost:8080/"
        }
      },
      "source": [
        "model.fit(x=train_dataset,\n",
        "          epochs=30,  #### set repeat in training dataset\n",
        "          steps_per_epoch=len(train_gen),\n",
        "          validation_data=valid_dataset,\n",
        "          validation_steps=len(validation_gen),\n",
        "          callbacks=callbacks)\n",
        "\n",
        "# How to visualize Tensorboard\n",
        "\n",
        "# 1. tensorboard --logdir EXPERIMENTS_DIR --port PORT     <- from terminal\n",
        "# 2. localhost:PORT   <- in your browser"
      ],
      "execution_count": 12,
      "outputs": [
        {
          "output_type": "stream",
          "text": [
            "Epoch 1/30\n",
            "71/71 [==============================] - 138s 2s/step - loss: 0.9625 - accuracy: 0.5165 - val_loss: 0.6903 - val_accuracy: 0.6845\n",
            "Epoch 2/30\n",
            "71/71 [==============================] - 131s 2s/step - loss: 0.5111 - accuracy: 0.7863 - val_loss: 0.5882 - val_accuracy: 0.7317\n",
            "Epoch 3/30\n",
            "71/71 [==============================] - 131s 2s/step - loss: 0.3291 - accuracy: 0.8791 - val_loss: 0.5383 - val_accuracy: 0.7576\n",
            "Epoch 4/30\n",
            "71/71 [==============================] - 131s 2s/step - loss: 0.1996 - accuracy: 0.9401 - val_loss: 0.5415 - val_accuracy: 0.7629\n",
            "Epoch 5/30\n",
            "71/71 [==============================] - 132s 2s/step - loss: 0.1135 - accuracy: 0.9784 - val_loss: 0.5389 - val_accuracy: 0.7834\n",
            "Epoch 6/30\n",
            "71/71 [==============================] - 131s 2s/step - loss: 0.0677 - accuracy: 0.9904 - val_loss: 0.5620 - val_accuracy: 0.7701\n",
            "Epoch 7/30\n",
            "71/71 [==============================] - 131s 2s/step - loss: 0.0426 - accuracy: 0.9955 - val_loss: 0.5878 - val_accuracy: 0.7709\n",
            "Epoch 8/30\n",
            "71/71 [==============================] - 131s 2s/step - loss: 0.0244 - accuracy: 0.9989 - val_loss: 0.6223 - val_accuracy: 0.7763\n"
          ],
          "name": "stdout"
        },
        {
          "output_type": "execute_result",
          "data": {
            "text/plain": [
              "<tensorflow.python.keras.callbacks.History at 0x7fd730383278>"
            ]
          },
          "metadata": {
            "tags": []
          },
          "execution_count": 12
        }
      ]
    },
    {
      "cell_type": "code",
      "metadata": {
        "id": "aDUS_ZIPB-Yr",
        "outputId": "61d77908-55ad-4b7d-e3bb-c40c096dbcfe",
        "colab": {
          "base_uri": "https://localhost:8080/"
        }
      },
      "source": [
        "import os\n",
        "from datetime import datetime\n",
        "\n",
        "from os import listdir\n",
        "\n",
        "\n",
        "def create_csv(results, results_dir='./'):\n",
        "\n",
        "    csv_fname = 'results_'\n",
        "    csv_fname += datetime.now().strftime('%b%d_%H-%M-%S') + '.csv'\n",
        "\n",
        "    with open(os.path.join(results_dir, csv_fname), 'w') as f:\n",
        "\n",
        "        f.write('Id,Category\\n')\n",
        "\n",
        "        for key, value in results.items():\n",
        "            f.write(key + ',' + str(value) + '\\n')\n",
        "\n",
        "\n",
        "test_dir = os.path.join(dataset_dir, 'test')\n",
        "\n",
        "images = [f for f in listdir(test_dir)]\n",
        "images = pd.DataFrame(images)\n",
        "images.rename(columns = {0:'filename'}, inplace = True)\n",
        "images[\"class\"] = 'test'\n",
        "\n",
        "test_gen = train_data_gen.flow_from_dataframe(images,\n",
        "                                               test_dir,\n",
        "                                               batch_size=BS,\n",
        "                                               target_size=(IMG_H, IMG_W),\n",
        "                                               class_mode='categorical',\n",
        "                                               shuffle=False,\n",
        "                                               seed=SEED)\n",
        "\n",
        "\n",
        "test_gen.reset()\n",
        "\n",
        "predictions = model.predict_generator(test_gen, len(test_gen), verbose=1)\n",
        "\n",
        "results = {}\n",
        "images = test_gen.filenames\n",
        "i = 0\n",
        "\n",
        "for p in predictions:\n",
        "  prediction = np.argmax(p)\n",
        "  import ntpath\n",
        "  image_name = ntpath.basename(images[i])\n",
        "  results[image_name] = str(prediction)\n",
        "  i = i + 1\n",
        "\n",
        "\n",
        "\n"
      ],
      "execution_count": 13,
      "outputs": [
        {
          "output_type": "stream",
          "text": [
            "Found 450 validated image filenames belonging to 1 classes.\n",
            "WARNING:tensorflow:From <ipython-input-13-a4d9738ef15f>:38: Model.predict_generator (from tensorflow.python.keras.engine.training) is deprecated and will be removed in a future version.\n",
            "Instructions for updating:\n",
            "Please use Model.predict, which supports generators.\n",
            "2/8 [======>.......................] - ETA: 2sWARNING:tensorflow:Callbacks method `on_predict_batch_end` is slow compared to the batch time (batch time: 0.0489s vs `on_predict_batch_end` time: 0.8656s). Check your callbacks.\n",
            "8/8 [==============================] - 7s 878ms/step\n"
          ],
          "name": "stdout"
        }
      ]
    },
    {
      "cell_type": "code",
      "metadata": {
        "id": "j7JH-YeiERLh"
      },
      "source": [
        "create_csv(results, '/content/drive/My Drive')"
      ],
      "execution_count": 14,
      "outputs": []
    }
  ]
}